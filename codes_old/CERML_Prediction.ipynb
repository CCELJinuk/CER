{
  "nbformat": 4,
  "nbformat_minor": 0,
  "metadata": {
    "colab": {
      "provenance": []
    },
    "kernelspec": {
      "name": "python3",
      "display_name": "Python 3"
    },
    "language_info": {
      "name": "python"
    }
  },
  "cells": [
    {
      "cell_type": "markdown",
      "source": [
        "Import 버전들 확인"
      ],
      "metadata": {
        "id": "_tJVaHRBtbrw"
      }
    },
    {
      "cell_type": "code",
      "execution_count": null,
      "metadata": {
        "colab": {
          "base_uri": "https://localhost:8080/"
        },
        "id": "vvd9Ki8KCjSU",
        "outputId": "737ed65c-fb29-4558-a524-4e372a1b5a5e"
      },
      "outputs": [
        {
          "output_type": "stream",
          "name": "stdout",
          "text": [
            "Numpy Version 1.21.6\n",
            "Pandas Version 1.3.5\n",
            "Matplotlib Version 3.2.2\n",
            "Scikit-Learn Version 1.0.2\n",
            "Tensorflow Version 2.9.2\n"
          ]
        }
      ],
      "source": [
        "import numpy as np\n",
        "import pandas as pd\n",
        "import matplotlib as matplotlib\n",
        "import sklearn as sklearn\n",
        "import tensorflow as tensorflow\n",
        "import matplotlib.pyplot as plt\n",
        "\n",
        "print('Numpy Version', np.__version__)\n",
        "print('Pandas Version', pd.__version__)\n",
        "print('Matplotlib Version', matplotlib.__version__)\n",
        "print('Scikit-Learn Version', sklearn.__version__)\n",
        "print('Tensorflow Version', tensorflow.__version__)"
      ]
    },
    {
      "cell_type": "code",
      "source": [
        "%matplotlib inline"
      ],
      "metadata": {
        "id": "cNoVjkUCCtsf"
      },
      "execution_count": null,
      "outputs": []
    },
    {
      "cell_type": "markdown",
      "source": [
        "DATA 읽어오기"
      ],
      "metadata": {
        "id": "tyHGayMbtgvB"
      }
    },
    {
      "cell_type": "code",
      "source": [
        "raw_data = pd.read_excel('CERML_origin_rvs.xlsx')\n",
        "print(raw_data)\n",
        "feature_names = np.array(['Nnum', 'ed', 'rcov', 'rZ', 'Ne'])\n",
        "print(feature_names)"
      ],
      "metadata": {
        "colab": {
          "base_uri": "https://localhost:8080/"
        },
        "id": "VVyJURGrCy5F",
        "outputId": "38659ec7-7bac-474a-82a6-403bf248f2a9"
      },
      "execution_count": null,
      "outputs": [
        {
          "output_type": "stream",
          "name": "stdout",
          "text": [
            "     M      G_Cl  Nnum    ed  rcov    rZ  Ne\n",
            "0   Mn  0.795966     4 -0.83  1.39  0.23   5\n",
            "1   Fe  0.858026     4 -0.62  1.32  0.22   6\n",
            "2   Co  1.150586     4 -1.01  1.26  0.21   7\n",
            "3   Ni  1.829476     4 -1.17  1.24  0.20   8\n",
            "4   Cu  1.902396     4 -1.50  1.32  0.19  10\n",
            "..  ..       ...   ...   ...   ...   ...  ..\n",
            "70   W -2.478654     0 -0.90  1.62  0.59   4\n",
            "71  Os -1.067414     0 -1.17  1.44  0.54   6\n",
            "72  Ir -0.004404     0 -0.94  1.41  0.53   7\n",
            "73  Pt  1.471646     0 -1.52  1.36  0.51   9\n",
            "74  Au  1.570000     0 -3.33  1.36  0.49  10\n",
            "\n",
            "[75 rows x 7 columns]\n",
            "['Nnum' 'ed' 'rcov' 'rZ' 'Ne']\n"
          ]
        }
      ]
    },
    {
      "cell_type": "markdown",
      "source": [
        "Data preprocessing"
      ],
      "metadata": {
        "id": "8FfGKZdctzub"
      }
    },
    {
      "cell_type": "code",
      "source": [
        "print(raw_data)\n",
        "data_cleaned = raw_data.iloc[:,2:] # input data들만 모은 array\n",
        "print(data_cleaned)"
      ],
      "metadata": {
        "colab": {
          "base_uri": "https://localhost:8080/"
        },
        "id": "aFQJxMtM8uXu",
        "outputId": "e79c2250-1dd8-43ea-b86e-5a965718658b"
      },
      "execution_count": null,
      "outputs": [
        {
          "output_type": "stream",
          "name": "stdout",
          "text": [
            "     M      G_Cl  Nnum    ed  rcov    rZ  Ne\n",
            "0   Mn  0.795966     4 -0.83  1.39  0.23   5\n",
            "1   Fe  0.858026     4 -0.62  1.32  0.22   6\n",
            "2   Co  1.150586     4 -1.01  1.26  0.21   7\n",
            "3   Ni  1.829476     4 -1.17  1.24  0.20   8\n",
            "4   Cu  1.902396     4 -1.50  1.32  0.19  10\n",
            "..  ..       ...   ...   ...   ...   ...  ..\n",
            "70   W -2.478654     0 -0.90  1.62  0.59   4\n",
            "71  Os -1.067414     0 -1.17  1.44  0.54   6\n",
            "72  Ir -0.004404     0 -0.94  1.41  0.53   7\n",
            "73  Pt  1.471646     0 -1.52  1.36  0.51   9\n",
            "74  Au  1.570000     0 -3.33  1.36  0.49  10\n",
            "\n",
            "[75 rows x 7 columns]\n",
            "    Nnum    ed  rcov    rZ  Ne\n",
            "0      4 -0.83  1.39  0.23   5\n",
            "1      4 -0.62  1.32  0.22   6\n",
            "2      4 -1.01  1.26  0.21   7\n",
            "3      4 -1.17  1.24  0.20   8\n",
            "4      4 -1.50  1.32  0.19  10\n",
            "..   ...   ...   ...   ...  ..\n",
            "70     0 -0.90  1.62  0.59   4\n",
            "71     0 -1.17  1.44  0.54   6\n",
            "72     0 -0.94  1.41  0.53   7\n",
            "73     0 -1.52  1.36  0.51   9\n",
            "74     0 -3.33  1.36  0.49  10\n",
            "\n",
            "[75 rows x 5 columns]\n"
          ]
        }
      ]
    },
    {
      "cell_type": "markdown",
      "source": [
        "여기서부터 Supervised Learning Part (SVM, Randomforest, NN)\n",
        "\n",
        "Training set 나누기!"
      ],
      "metadata": {
        "id": "Hyx5YYwYuB0w"
      }
    },
    {
      "cell_type": "code",
      "source": [
        "from sklearn.model_selection import train_test_split"
      ],
      "metadata": {
        "id": "ffDPonNi-gy1"
      },
      "execution_count": null,
      "outputs": []
    },
    {
      "cell_type": "code",
      "source": [
        "x = data_cleaned.astype(np.float)\n",
        "y = raw_data.iloc[:,1].astype(np.float)\n",
        "\n",
        "x_train, x_test, y_train, y_test = train_test_split(x, y, test_size=0.3, random_state=42)  # 적당한 비율로 training과 test set을 나누는 부분"
      ],
      "metadata": {
        "id": "YyNCtLGD-nLc",
        "colab": {
          "base_uri": "https://localhost:8080/"
        },
        "outputId": "84b6a1f6-5849-46ab-de60-eeaa6a4584c5"
      },
      "execution_count": null,
      "outputs": [
        {
          "output_type": "stream",
          "name": "stderr",
          "text": [
            "<ipython-input-6-c951e57a26ad>:1: DeprecationWarning: `np.float` is a deprecated alias for the builtin `float`. To silence this warning, use `float` by itself. Doing this will not modify any behavior and is safe. If you specifically wanted the numpy scalar type, use `np.float64` here.\n",
            "Deprecated in NumPy 1.20; for more details and guidance: https://numpy.org/devdocs/release/1.20.0-notes.html#deprecations\n",
            "  x = data_cleaned.astype(np.float)\n",
            "<ipython-input-6-c951e57a26ad>:2: DeprecationWarning: `np.float` is a deprecated alias for the builtin `float`. To silence this warning, use `float` by itself. Doing this will not modify any behavior and is safe. If you specifically wanted the numpy scalar type, use `np.float64` here.\n",
            "Deprecated in NumPy 1.20; for more details and guidance: https://numpy.org/devdocs/release/1.20.0-notes.html#deprecations\n",
            "  y = raw_data.iloc[:,1].astype(np.float)\n"
          ]
        }
      ]
    },
    {
      "cell_type": "markdown",
      "source": [
        "Random Forest"
      ],
      "metadata": {
        "id": "fuP_GSxeuOZq"
      }
    },
    {
      "cell_type": "code",
      "source": [
        "from sklearn.ensemble import RandomForestRegressor\n",
        "from sklearn.model_selection import RandomizedSearchCV"
      ],
      "metadata": {
        "id": "Sh5d4QBBKslk"
      },
      "execution_count": null,
      "outputs": []
    },
    {
      "cell_type": "code",
      "source": [
        "hyper_params_rdf = {'n_estimators':np.arange(1, 25, 1)} # 아마 paramter의 개수가 tree의 개수인가...?\n",
        "\n",
        "rdf_tune = RandomForestRegressor()\n",
        "g_search_rdf = RandomizedSearchCV(rdf_tune, hyper_params_rdf, cv=5, n_jobs=-1, random_state=42)\n",
        "g_search_rdf.fit(x_train, y_train) # 최고의 hyperparamter를 찾기 위한 학습!"
      ],
      "metadata": {
        "id": "kej94n1zb78T",
        "colab": {
          "base_uri": "https://localhost:8080/"
        },
        "outputId": "c1740a4f-1192-4527-d4b9-2f8265c30fb2"
      },
      "execution_count": null,
      "outputs": [
        {
          "output_type": "execute_result",
          "data": {
            "text/plain": [
              "RandomizedSearchCV(cv=5, estimator=RandomForestRegressor(), n_jobs=-1,\n",
              "                   param_distributions={'n_estimators': array([ 1,  2,  3,  4,  5,  6,  7,  8,  9, 10, 11, 12, 13, 14, 15, 16, 17,\n",
              "       18, 19, 20, 21, 22, 23, 24])},\n",
              "                   random_state=42)"
            ]
          },
          "metadata": {},
          "execution_count": 8
        }
      ]
    },
    {
      "cell_type": "code",
      "source": [
        "print('Best Estimator ', g_search_rdf.best_estimator_) # 최고의 hyperparameter 찾음!"
      ],
      "metadata": {
        "id": "jIZNvAozcJ0R",
        "colab": {
          "base_uri": "https://localhost:8080/"
        },
        "outputId": "2c949b5b-40fd-488a-d6eb-c3335f01a89f"
      },
      "execution_count": null,
      "outputs": [
        {
          "output_type": "stream",
          "name": "stdout",
          "text": [
            "Best Estimator  RandomForestRegressor(n_estimators=17)\n"
          ]
        }
      ]
    },
    {
      "cell_type": "code",
      "source": [
        "estimators = g_search_rdf.best_estimator_.n_estimators # 그 숫자를 estimators라는 변수에 대입!"
      ],
      "metadata": {
        "id": "-T-_ZrolcL5Y"
      },
      "execution_count": null,
      "outputs": []
    },
    {
      "cell_type": "code",
      "source": [
        "regressor = RandomForestRegressor(n_estimators=estimators, random_state=42) # 최고의 개수로 다시 설정\n",
        "regressor.fit(x_train, y_train); # 최고의 개수로 학습!"
      ],
      "metadata": {
        "id": "sATV06qBcNvH"
      },
      "execution_count": null,
      "outputs": []
    },
    {
      "cell_type": "code",
      "source": [
        "y_pred_train = regressor.predict(x_train) # 최고의 개수로 학습한 거에 x_train을 넣은 결과\n",
        "y_pred = regressor.predict(x_test) # 최고의 개수로 학습한 거에 x_test를 넣은 결과\n",
        "\n",
        "print('Score on training set:', regressor.score(x_train, y_train))\n",
        "print('Score on test set:', regressor.score(x_test, y_test))"
      ],
      "metadata": {
        "id": "7jIqU0kfcQ77",
        "colab": {
          "base_uri": "https://localhost:8080/"
        },
        "outputId": "c39caf8a-4ec4-44ed-98bd-2adef0051c27"
      },
      "execution_count": null,
      "outputs": [
        {
          "output_type": "stream",
          "name": "stdout",
          "text": [
            "Score on training set: 0.9884903572333602\n",
            "Score on test set: 0.9417345234778043\n"
          ]
        }
      ]
    },
    {
      "cell_type": "code",
      "source": [
        "plt.figure(figsize=(12,9))\n",
        "\n",
        "plt.scatter(y_test, y_pred) # pairity plot 그리기!!\n",
        "plt.title('RandomForest, G_Cl')\n",
        "plt.xlabel('True Values')\n",
        "plt.ylabel('Predictions')\n",
        "plt.axis('equal')\n",
        "plt.xlim(plt.xlim())\n",
        "plt.ylim(plt.ylim())\n",
        "plt.plot([-1000, 1000], [-1000, 1000]);"
      ],
      "metadata": {
        "id": "N0nX4IgRcYTY",
        "colab": {
          "base_uri": "https://localhost:8080/",
          "height": 567
        },
        "outputId": "2768f98a-3d5f-46c0-e2a2-4c21b8400789"
      },
      "execution_count": null,
      "outputs": [
        {
          "output_type": "display_data",
          "data": {
            "text/plain": [
              "<Figure size 864x648 with 1 Axes>"
            ],
            "image/png": "[encoded data removed]"
          },
          "metadata": {
            "needs_background": "light"
          }
        }
      ]
    },
    {
      "cell_type": "code",
      "source": [
        "from sklearn.metrics import mean_squared_error\n",
        "from sklearn.metrics import r2_score\n",
        "\n",
        "mse_rdf_train = mean_squared_error(y_train, y_pred_train) # rdf에서 train set 에러\n",
        "mse_rdf_test = mean_squared_error(y_test, y_pred) # rdf에서 test set 에러\n",
        "\n",
        "print(mse_rdf_train)\n",
        "print(mse_rdf_test)\n",
        "\n",
        "r2_rdf_train = r2_score(y_train, y_pred_train) # rdf에서 train set r2 점수\n",
        "r2_rdf_test = r2_score(y_test, y_pred) # rdf에서 test set r2 점수\n",
        "\n",
        "print(r2_rdf_train)\n",
        "print(r2_rdf_test)"
      ],
      "metadata": {
        "id": "Aku6FMf5ctuw",
        "colab": {
          "base_uri": "https://localhost:8080/"
        },
        "outputId": "33018d34-b06d-4b1b-bac0-6520423860f6"
      },
      "execution_count": null,
      "outputs": [
        {
          "output_type": "stream",
          "name": "stdout",
          "text": [
            "0.014412153897379706\n",
            "0.07158835486929294\n",
            "0.9884903572333602\n",
            "0.9417345234778043\n"
          ]
        }
      ]
    },
    {
      "cell_type": "markdown",
      "source": [
        "Prediction"
      ],
      "metadata": {
        "id": "NEv14HxYYr5Q"
      }
    },
    {
      "cell_type": "code",
      "source": [
        "data_1 = pd.read_excel('CERML_add.xlsx')\n",
        "print(data_1)\n",
        "feature_names = np.array(['Nnum', 'ed','Qe', 'rcov', 'rZ', 'Ne'])\n",
        "print(feature_names)"
      ],
      "metadata": {
        "colab": {
          "base_uri": "https://localhost:8080/",
          "height": 396
        },
        "id": "L4x23bTxYrEg",
        "outputId": "0c8a3edc-3114-4f0f-b529-de0fb0af26ad"
      },
      "execution_count": null,
      "outputs": [
        {
          "output_type": "error",
          "ename": "FileNotFoundError",
          "evalue": "ignored",
          "traceback": [
            "\u001b[0;31m---------------------------------------------------------------------------\u001b[0m",
            "\u001b[0;31mFileNotFoundError\u001b[0m                         Traceback (most recent call last)",
            "\u001b[0;32m<ipython-input-15-9916c90484f9>\u001b[0m in \u001b[0;36m<module>\u001b[0;34m\u001b[0m\n\u001b[0;32m----> 1\u001b[0;31m \u001b[0mdata_1\u001b[0m \u001b[0;34m=\u001b[0m \u001b[0mpd\u001b[0m\u001b[0;34m.\u001b[0m\u001b[0mread_excel\u001b[0m\u001b[0;34m(\u001b[0m\u001b[0;34m'CERML_add.xlsx'\u001b[0m\u001b[0;34m)\u001b[0m\u001b[0;34m\u001b[0m\u001b[0;34m\u001b[0m\u001b[0m\n\u001b[0m\u001b[1;32m      2\u001b[0m \u001b[0mprint\u001b[0m\u001b[0;34m(\u001b[0m\u001b[0mdata_1\u001b[0m\u001b[0;34m)\u001b[0m\u001b[0;34m\u001b[0m\u001b[0;34m\u001b[0m\u001b[0m\n\u001b[1;32m      3\u001b[0m \u001b[0mfeature_names\u001b[0m \u001b[0;34m=\u001b[0m \u001b[0mnp\u001b[0m\u001b[0;34m.\u001b[0m\u001b[0marray\u001b[0m\u001b[0;34m(\u001b[0m\u001b[0;34m[\u001b[0m\u001b[0;34m'Nnum'\u001b[0m\u001b[0;34m,\u001b[0m \u001b[0;34m'ed'\u001b[0m\u001b[0;34m,\u001b[0m\u001b[0;34m'Qe'\u001b[0m\u001b[0;34m,\u001b[0m \u001b[0;34m'rcov'\u001b[0m\u001b[0;34m,\u001b[0m \u001b[0;34m'rZ'\u001b[0m\u001b[0;34m,\u001b[0m \u001b[0;34m'Ne'\u001b[0m\u001b[0;34m]\u001b[0m\u001b[0;34m)\u001b[0m\u001b[0;34m\u001b[0m\u001b[0;34m\u001b[0m\u001b[0m\n\u001b[1;32m      4\u001b[0m \u001b[0mprint\u001b[0m\u001b[0;34m(\u001b[0m\u001b[0mfeature_names\u001b[0m\u001b[0;34m)\u001b[0m\u001b[0;34m\u001b[0m\u001b[0;34m\u001b[0m\u001b[0m\n",
            "\u001b[0;32m/usr/local/lib/python3.8/dist-packages/pandas/util/_decorators.py\u001b[0m in \u001b[0;36mwrapper\u001b[0;34m(*args, **kwargs)\u001b[0m\n\u001b[1;32m    309\u001b[0m                     \u001b[0mstacklevel\u001b[0m\u001b[0;34m=\u001b[0m\u001b[0mstacklevel\u001b[0m\u001b[0;34m,\u001b[0m\u001b[0;34m\u001b[0m\u001b[0;34m\u001b[0m\u001b[0m\n\u001b[1;32m    310\u001b[0m                 )\n\u001b[0;32m--> 311\u001b[0;31m             \u001b[0;32mreturn\u001b[0m \u001b[0mfunc\u001b[0m\u001b[0;34m(\u001b[0m\u001b[0;34m*\u001b[0m\u001b[0margs\u001b[0m\u001b[0;34m,\u001b[0m \u001b[0;34m**\u001b[0m\u001b[0mkwargs\u001b[0m\u001b[0;34m)\u001b[0m\u001b[0;34m\u001b[0m\u001b[0;34m\u001b[0m\u001b[0m\n\u001b[0m\u001b[1;32m    312\u001b[0m \u001b[0;34m\u001b[0m\u001b[0m\n\u001b[1;32m    313\u001b[0m         \u001b[0;32mreturn\u001b[0m \u001b[0mwrapper\u001b[0m\u001b[0;34m\u001b[0m\u001b[0;34m\u001b[0m\u001b[0m\n",
            "\u001b[0;32m/usr/local/lib/python3.8/dist-packages/pandas/io/excel/_base.py\u001b[0m in \u001b[0;36mread_excel\u001b[0;34m(io, sheet_name, header, names, index_col, usecols, squeeze, dtype, engine, converters, true_values, false_values, skiprows, nrows, na_values, keep_default_na, na_filter, verbose, parse_dates, date_parser, thousands, comment, skipfooter, convert_float, mangle_dupe_cols, storage_options)\u001b[0m\n\u001b[1;32m    362\u001b[0m     \u001b[0;32mif\u001b[0m \u001b[0;32mnot\u001b[0m \u001b[0misinstance\u001b[0m\u001b[0;34m(\u001b[0m\u001b[0mio\u001b[0m\u001b[0;34m,\u001b[0m \u001b[0mExcelFile\u001b[0m\u001b[0;34m)\u001b[0m\u001b[0;34m:\u001b[0m\u001b[0;34m\u001b[0m\u001b[0;34m\u001b[0m\u001b[0m\n\u001b[1;32m    363\u001b[0m         \u001b[0mshould_close\u001b[0m \u001b[0;34m=\u001b[0m \u001b[0;32mTrue\u001b[0m\u001b[0;34m\u001b[0m\u001b[0;34m\u001b[0m\u001b[0m\n\u001b[0;32m--> 364\u001b[0;31m         \u001b[0mio\u001b[0m \u001b[0;34m=\u001b[0m \u001b[0mExcelFile\u001b[0m\u001b[0;34m(\u001b[0m\u001b[0mio\u001b[0m\u001b[0;34m,\u001b[0m \u001b[0mstorage_options\u001b[0m\u001b[0;34m=\u001b[0m\u001b[0mstorage_options\u001b[0m\u001b[0;34m,\u001b[0m \u001b[0mengine\u001b[0m\u001b[0;34m=\u001b[0m\u001b[0mengine\u001b[0m\u001b[0;34m)\u001b[0m\u001b[0;34m\u001b[0m\u001b[0;34m\u001b[0m\u001b[0m\n\u001b[0m\u001b[1;32m    365\u001b[0m     \u001b[0;32melif\u001b[0m \u001b[0mengine\u001b[0m \u001b[0;32mand\u001b[0m \u001b[0mengine\u001b[0m \u001b[0;34m!=\u001b[0m \u001b[0mio\u001b[0m\u001b[0;34m.\u001b[0m\u001b[0mengine\u001b[0m\u001b[0;34m:\u001b[0m\u001b[0;34m\u001b[0m\u001b[0;34m\u001b[0m\u001b[0m\n\u001b[1;32m    366\u001b[0m         raise ValueError(\n",
            "\u001b[0;32m/usr/local/lib/python3.8/dist-packages/pandas/io/excel/_base.py\u001b[0m in \u001b[0;36m__init__\u001b[0;34m(self, path_or_buffer, engine, storage_options)\u001b[0m\n\u001b[1;32m   1189\u001b[0m                 \u001b[0mext\u001b[0m \u001b[0;34m=\u001b[0m \u001b[0;34m\"xls\"\u001b[0m\u001b[0;34m\u001b[0m\u001b[0;34m\u001b[0m\u001b[0m\n\u001b[1;32m   1190\u001b[0m             \u001b[0;32melse\u001b[0m\u001b[0;34m:\u001b[0m\u001b[0;34m\u001b[0m\u001b[0;34m\u001b[0m\u001b[0m\n\u001b[0;32m-> 1191\u001b[0;31m                 ext = inspect_excel_format(\n\u001b[0m\u001b[1;32m   1192\u001b[0m                     \u001b[0mcontent_or_path\u001b[0m\u001b[0;34m=\u001b[0m\u001b[0mpath_or_buffer\u001b[0m\u001b[0;34m,\u001b[0m \u001b[0mstorage_options\u001b[0m\u001b[0;34m=\u001b[0m\u001b[0mstorage_options\u001b[0m\u001b[0;34m\u001b[0m\u001b[0;34m\u001b[0m\u001b[0m\n\u001b[1;32m   1193\u001b[0m                 )\n",
            "\u001b[0;32m/usr/local/lib/python3.8/dist-packages/pandas/io/excel/_base.py\u001b[0m in \u001b[0;36minspect_excel_format\u001b[0;34m(content_or_path, storage_options)\u001b[0m\n\u001b[1;32m   1068\u001b[0m         \u001b[0mcontent_or_path\u001b[0m \u001b[0;34m=\u001b[0m \u001b[0mBytesIO\u001b[0m\u001b[0;34m(\u001b[0m\u001b[0mcontent_or_path\u001b[0m\u001b[0;34m)\u001b[0m\u001b[0;34m\u001b[0m\u001b[0;34m\u001b[0m\u001b[0m\n\u001b[1;32m   1069\u001b[0m \u001b[0;34m\u001b[0m\u001b[0m\n\u001b[0;32m-> 1070\u001b[0;31m     with get_handle(\n\u001b[0m\u001b[1;32m   1071\u001b[0m         \u001b[0mcontent_or_path\u001b[0m\u001b[0;34m,\u001b[0m \u001b[0;34m\"rb\"\u001b[0m\u001b[0;34m,\u001b[0m \u001b[0mstorage_options\u001b[0m\u001b[0;34m=\u001b[0m\u001b[0mstorage_options\u001b[0m\u001b[0;34m,\u001b[0m \u001b[0mis_text\u001b[0m\u001b[0;34m=\u001b[0m\u001b[0;32mFalse\u001b[0m\u001b[0;34m\u001b[0m\u001b[0;34m\u001b[0m\u001b[0m\n\u001b[1;32m   1072\u001b[0m     ) as handle:\n",
            "\u001b[0;32m/usr/local/lib/python3.8/dist-packages/pandas/io/common.py\u001b[0m in \u001b[0;36mget_handle\u001b[0;34m(path_or_buf, mode, encoding, compression, memory_map, is_text, errors, storage_options)\u001b[0m\n\u001b[1;32m    709\u001b[0m         \u001b[0;32melse\u001b[0m\u001b[0;34m:\u001b[0m\u001b[0;34m\u001b[0m\u001b[0;34m\u001b[0m\u001b[0m\n\u001b[1;32m    710\u001b[0m             \u001b[0;31m# Binary mode\u001b[0m\u001b[0;34m\u001b[0m\u001b[0;34m\u001b[0m\u001b[0;34m\u001b[0m\u001b[0m\n\u001b[0;32m--> 711\u001b[0;31m             \u001b[0mhandle\u001b[0m \u001b[0;34m=\u001b[0m \u001b[0mopen\u001b[0m\u001b[0;34m(\u001b[0m\u001b[0mhandle\u001b[0m\u001b[0;34m,\u001b[0m \u001b[0mioargs\u001b[0m\u001b[0;34m.\u001b[0m\u001b[0mmode\u001b[0m\u001b[0;34m)\u001b[0m\u001b[0;34m\u001b[0m\u001b[0;34m\u001b[0m\u001b[0m\n\u001b[0m\u001b[1;32m    712\u001b[0m         \u001b[0mhandles\u001b[0m\u001b[0;34m.\u001b[0m\u001b[0mappend\u001b[0m\u001b[0;34m(\u001b[0m\u001b[0mhandle\u001b[0m\u001b[0;34m)\u001b[0m\u001b[0;34m\u001b[0m\u001b[0;34m\u001b[0m\u001b[0m\n\u001b[1;32m    713\u001b[0m \u001b[0;34m\u001b[0m\u001b[0m\n",
            "\u001b[0;31mFileNotFoundError\u001b[0m: [Errno 2] No such file or directory: 'CERML_add.xlsx'"
          ]
        }
      ]
    },
    {
      "cell_type": "code",
      "source": [
        "data_cleaned = data_1.iloc[:,1:] # input data들만 모은 array\n",
        "print(data_cleaned)"
      ],
      "metadata": {
        "id": "yP7wu1bVZ1HJ"
      },
      "execution_count": null,
      "outputs": []
    },
    {
      "cell_type": "code",
      "source": [
        "y_pred_new = regressor.predict(data_cleaned) # 최고의 개수로 학습한 거에 x_test를 넣은 결과\n",
        "print(y_pred_new)\n",
        "\n",
        "#f = open(r'dd.txt','w')\n",
        "#f.write(str(y_pred_new))\n",
        "#f.close()"
      ],
      "metadata": {
        "id": "825BeWmKY9Jh"
      },
      "execution_count": null,
      "outputs": []
    }
  ]
}