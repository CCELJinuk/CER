{
 "cells": [
  {
   "cell_type": "markdown",
   "metadata": {
    "id": "_tJVaHRBtbrw",
    "jp-MarkdownHeadingCollapsed": true,
    "tags": []
   },
   "source": [
    "# Import 버전들 확인"
   ]
  },
  {
   "cell_type": "code",
   "execution_count": 1,
   "metadata": {
    "colab": {
     "base_uri": "https://localhost:8080/"
    },
    "id": "vvd9Ki8KCjSU",
    "outputId": "36c62a20-c4b6-48e8-b75c-7115e516564e"
   },
   "outputs": [
    {
     "name": "stderr",
     "output_type": "stream",
     "text": [
      "C:\\Users\\dino3\\miniconda3\\envs\\CERML\\Lib\\site-packages\\shap\\utils\\_clustering.py:34: NumbaDeprecationWarning: \u001b[1mThe 'nopython' keyword argument was not supplied to the 'numba.jit' decorator. The implicit default value for this argument is currently False, but it will be changed to True in Numba 0.59.0. See https://numba.readthedocs.io/en/stable/reference/deprecation.html#deprecation-of-object-mode-fall-back-behaviour-when-using-jit for details.\u001b[0m\n",
      "  @jit\n",
      "C:\\Users\\dino3\\miniconda3\\envs\\CERML\\Lib\\site-packages\\shap\\utils\\_clustering.py:53: NumbaDeprecationWarning: \u001b[1mThe 'nopython' keyword argument was not supplied to the 'numba.jit' decorator. The implicit default value for this argument is currently False, but it will be changed to True in Numba 0.59.0. See https://numba.readthedocs.io/en/stable/reference/deprecation.html#deprecation-of-object-mode-fall-back-behaviour-when-using-jit for details.\u001b[0m\n",
      "  @jit\n",
      "C:\\Users\\dino3\\miniconda3\\envs\\CERML\\Lib\\site-packages\\shap\\utils\\_clustering.py:62: NumbaDeprecationWarning: \u001b[1mThe 'nopython' keyword argument was not supplied to the 'numba.jit' decorator. The implicit default value for this argument is currently False, but it will be changed to True in Numba 0.59.0. See https://numba.readthedocs.io/en/stable/reference/deprecation.html#deprecation-of-object-mode-fall-back-behaviour-when-using-jit for details.\u001b[0m\n",
      "  @jit\n",
      "C:\\Users\\dino3\\miniconda3\\envs\\CERML\\Lib\\site-packages\\shap\\utils\\_clustering.py:68: NumbaDeprecationWarning: \u001b[1mThe 'nopython' keyword argument was not supplied to the 'numba.jit' decorator. The implicit default value for this argument is currently False, but it will be changed to True in Numba 0.59.0. See https://numba.readthedocs.io/en/stable/reference/deprecation.html#deprecation-of-object-mode-fall-back-behaviour-when-using-jit for details.\u001b[0m\n",
      "  @jit\n",
      "C:\\Users\\dino3\\miniconda3\\envs\\CERML\\Lib\\site-packages\\shap\\utils\\_clustering.py:76: NumbaDeprecationWarning: \u001b[1mThe 'nopython' keyword argument was not supplied to the 'numba.jit' decorator. The implicit default value for this argument is currently False, but it will be changed to True in Numba 0.59.0. See https://numba.readthedocs.io/en/stable/reference/deprecation.html#deprecation-of-object-mode-fall-back-behaviour-when-using-jit for details.\u001b[0m\n",
      "  @jit\n",
      "C:\\Users\\dino3\\miniconda3\\envs\\CERML\\Lib\\site-packages\\shap\\links.py:4: NumbaDeprecationWarning: \u001b[1mThe 'nopython' keyword argument was not supplied to the 'numba.jit' decorator. The implicit default value for this argument is currently False, but it will be changed to True in Numba 0.59.0. See https://numba.readthedocs.io/en/stable/reference/deprecation.html#deprecation-of-object-mode-fall-back-behaviour-when-using-jit for details.\u001b[0m\n",
      "  @numba.jit\n",
      "C:\\Users\\dino3\\miniconda3\\envs\\CERML\\Lib\\site-packages\\shap\\links.py:9: NumbaDeprecationWarning: \u001b[1mThe 'nopython' keyword argument was not supplied to the 'numba.jit' decorator. The implicit default value for this argument is currently False, but it will be changed to True in Numba 0.59.0. See https://numba.readthedocs.io/en/stable/reference/deprecation.html#deprecation-of-object-mode-fall-back-behaviour-when-using-jit for details.\u001b[0m\n",
      "  @numba.jit\n",
      "C:\\Users\\dino3\\miniconda3\\envs\\CERML\\Lib\\site-packages\\shap\\links.py:14: NumbaDeprecationWarning: \u001b[1mThe 'nopython' keyword argument was not supplied to the 'numba.jit' decorator. The implicit default value for this argument is currently False, but it will be changed to True in Numba 0.59.0. See https://numba.readthedocs.io/en/stable/reference/deprecation.html#deprecation-of-object-mode-fall-back-behaviour-when-using-jit for details.\u001b[0m\n",
      "  @numba.jit\n",
      "C:\\Users\\dino3\\miniconda3\\envs\\CERML\\Lib\\site-packages\\shap\\links.py:19: NumbaDeprecationWarning: \u001b[1mThe 'nopython' keyword argument was not supplied to the 'numba.jit' decorator. The implicit default value for this argument is currently False, but it will be changed to True in Numba 0.59.0. See https://numba.readthedocs.io/en/stable/reference/deprecation.html#deprecation-of-object-mode-fall-back-behaviour-when-using-jit for details.\u001b[0m\n",
      "  @numba.jit\n",
      "C:\\Users\\dino3\\miniconda3\\envs\\CERML\\Lib\\site-packages\\shap\\utils\\_masked_model.py:362: NumbaDeprecationWarning: \u001b[1mThe 'nopython' keyword argument was not supplied to the 'numba.jit' decorator. The implicit default value for this argument is currently False, but it will be changed to True in Numba 0.59.0. See https://numba.readthedocs.io/en/stable/reference/deprecation.html#deprecation-of-object-mode-fall-back-behaviour-when-using-jit for details.\u001b[0m\n",
      "  @jit # we can't use this when using a custom link function...\n",
      "C:\\Users\\dino3\\miniconda3\\envs\\CERML\\Lib\\site-packages\\shap\\utils\\_masked_model.py:384: NumbaDeprecationWarning: \u001b[1mThe 'nopython' keyword argument was not supplied to the 'numba.jit' decorator. The implicit default value for this argument is currently False, but it will be changed to True in Numba 0.59.0. See https://numba.readthedocs.io/en/stable/reference/deprecation.html#deprecation-of-object-mode-fall-back-behaviour-when-using-jit for details.\u001b[0m\n",
      "  @jit\n",
      "C:\\Users\\dino3\\miniconda3\\envs\\CERML\\Lib\\site-packages\\shap\\utils\\_masked_model.py:427: NumbaDeprecationWarning: \u001b[1mThe 'nopython' keyword argument was not supplied to the 'numba.jit' decorator. The implicit default value for this argument is currently False, but it will be changed to True in Numba 0.59.0. See https://numba.readthedocs.io/en/stable/reference/deprecation.html#deprecation-of-object-mode-fall-back-behaviour-when-using-jit for details.\u001b[0m\n",
      "  @jit\n",
      "C:\\Users\\dino3\\miniconda3\\envs\\CERML\\Lib\\site-packages\\shap\\utils\\_masked_model.py:438: NumbaDeprecationWarning: \u001b[1mThe 'nopython' keyword argument was not supplied to the 'numba.jit' decorator. The implicit default value for this argument is currently False, but it will be changed to True in Numba 0.59.0. See https://numba.readthedocs.io/en/stable/reference/deprecation.html#deprecation-of-object-mode-fall-back-behaviour-when-using-jit for details.\u001b[0m\n",
      "  @jit\n",
      "C:\\Users\\dino3\\miniconda3\\envs\\CERML\\Lib\\site-packages\\shap\\maskers\\_tabular.py:185: NumbaDeprecationWarning: \u001b[1mThe 'nopython' keyword argument was not supplied to the 'numba.jit' decorator. The implicit default value for this argument is currently False, but it will be changed to True in Numba 0.59.0. See https://numba.readthedocs.io/en/stable/reference/deprecation.html#deprecation-of-object-mode-fall-back-behaviour-when-using-jit for details.\u001b[0m\n",
      "  @jit\n",
      "C:\\Users\\dino3\\miniconda3\\envs\\CERML\\Lib\\site-packages\\shap\\maskers\\_tabular.py:196: NumbaDeprecationWarning: \u001b[1mThe 'nopython' keyword argument was not supplied to the 'numba.jit' decorator. The implicit default value for this argument is currently False, but it will be changed to True in Numba 0.59.0. See https://numba.readthedocs.io/en/stable/reference/deprecation.html#deprecation-of-object-mode-fall-back-behaviour-when-using-jit for details.\u001b[0m\n",
      "  @jit\n",
      "C:\\Users\\dino3\\miniconda3\\envs\\CERML\\Lib\\site-packages\\shap\\maskers\\_image.py:174: NumbaDeprecationWarning: \u001b[1mThe 'nopython' keyword argument was not supplied to the 'numba.jit' decorator. The implicit default value for this argument is currently False, but it will be changed to True in Numba 0.59.0. See https://numba.readthedocs.io/en/stable/reference/deprecation.html#deprecation-of-object-mode-fall-back-behaviour-when-using-jit for details.\u001b[0m\n",
      "  @jit\n",
      "C:\\Users\\dino3\\miniconda3\\envs\\CERML\\Lib\\site-packages\\shap\\explainers\\_partition.py:675: NumbaDeprecationWarning: \u001b[1mThe 'nopython' keyword argument was not supplied to the 'numba.jit' decorator. The implicit default value for this argument is currently False, but it will be changed to True in Numba 0.59.0. See https://numba.readthedocs.io/en/stable/reference/deprecation.html#deprecation-of-object-mode-fall-back-behaviour-when-using-jit for details.\u001b[0m\n",
      "  @jit\n",
      "\u001b[1mThe 'nopython' keyword argument was not supplied to the 'numba.jit' decorator. The implicit default value for this argument is currently False, but it will be changed to True in Numba 0.59.0. See https://numba.readthedocs.io/en/stable/reference/deprecation.html#deprecation-of-object-mode-fall-back-behaviour-when-using-jit for details.\u001b[0m\n",
      "\u001b[1mThe 'nopython' keyword argument was not supplied to the 'numba.jit' decorator. The implicit default value for this argument is currently False, but it will be changed to True in Numba 0.59.0. See https://numba.readthedocs.io/en/stable/reference/deprecation.html#deprecation-of-object-mode-fall-back-behaviour-when-using-jit for details.\u001b[0m\n"
     ]
    },
    {
     "name": "stdout",
     "output_type": "stream",
     "text": [
      "Numpy Version 1.23.5\n",
      "Pandas Version 1.5.3\n",
      "Matplotlib Version 3.7.1\n",
      "Scikit-Learn Version 1.2.2\n",
      "Tensorflow Version 2.12.0\n",
      "Python Version 3.11.3 | packaged by Anaconda, Inc. | (main, Apr 19 2023, 23:46:34) [MSC v.1916 64 bit (AMD64)]\n"
     ]
    }
   ],
   "source": [
    "import numpy as np\n",
    "import pandas as pd\n",
    "import matplotlib\n",
    "import matplotlib.pyplot as plt\n",
    "import matplotlib.patches as mpatches\n",
    "import seaborn as sns\n",
    "import sklearn\n",
    "import sys\n",
    "from sklearn.model_selection import train_test_split, RandomizedSearchCV, cross_validate, RepeatedKFold\n",
    "from sklearn.svm import SVR\n",
    "from sklearn.pipeline import Pipeline, make_pipeline\n",
    "from sklearn.preprocessing import StandardScaler\n",
    "from scipy.stats import norm, randint, uniform, rv_continuous\n",
    "from sklearn.ensemble import RandomForestRegressor\n",
    "from sklearn.metrics import mean_squared_error, r2_score\n",
    "import tensorflow as tf\n",
    "from tensorflow.keras.models import Sequential\n",
    "from tensorflow.keras.layers import Dense, BatchNormalization\n",
    "from tensorflow.keras.optimizers import Adam\n",
    "from tensorflow.keras.callbacks import EarlyStopping\n",
    "from tensorflow.keras.wrappers.scikit_learn import KerasRegressor\n",
    "from sklearn.feature_selection import SelectFromModel\n",
    "from sklearn.linear_model import Lasso, Ridge\n",
    "from xgboost import XGBRegressor\n",
    "import xgboost\n",
    "import shap\n",
    "import lightgbm\n",
    "from lightgbm import LGBMRegressor\n",
    "from pprint import pprint\n",
    "\n",
    "print('Numpy Version', np.__version__)\n",
    "print('Pandas Version', pd.__version__)\n",
    "print('Matplotlib Version', matplotlib.__version__)\n",
    "print('Scikit-Learn Version', sklearn.__version__)\n",
    "print('Tensorflow Version', tf.__version__)\n",
    "print('Python Version', sys.version)"
   ]
  },
  {
   "cell_type": "code",
   "execution_count": 2,
   "metadata": {
    "id": "cNoVjkUCCtsf"
   },
   "outputs": [],
   "source": [
    "%matplotlib inline"
   ]
  },
  {
   "cell_type": "markdown",
   "metadata": {
    "id": "tyHGayMbtgvB"
   },
   "source": [
    "DATA 읽어오기"
   ]
  },
  {
   "cell_type": "code",
   "execution_count": 3,
   "metadata": {
    "colab": {
     "base_uri": "https://localhost:8080/"
    },
    "id": "VVyJURGrCy5F",
    "outputId": "7f60fefd-3077-4214-af1e-8e63fe3d71ec"
   },
   "outputs": [
    {
     "name": "stdout",
     "output_type": "stream",
     "text": [
      "     M      G_Cl  Nnum    ed    Qe  Ecohe    EN    EA     I  rcov    rZ  Ne  \\\n",
      "0   Mn  0.795966     4 -0.83  1.24  -0.36  1.55 -0.50  7.43  1.39  0.23   5   \n",
      "1   Fe  0.858026     4 -0.62  1.37  -3.15  1.83  0.15  7.90  1.32  0.22   6   \n",
      "2   Co  1.150586     4 -1.01  0.91  -2.81  1.88  0.66  7.88  1.26  0.21   7   \n",
      "3   Ni  1.829476     4 -1.17  0.77  -4.69  1.92  1.16  7.64  1.24  0.20   8   \n",
      "4   Cu  1.902396     4 -1.50  0.71  -2.48  1.90  1.24  7.73  1.32  0.19  10   \n",
      "..  ..       ...   ...   ...   ...    ...   ...   ...   ...   ...   ...  ..   \n",
      "70   W -2.478654     0 -0.90  1.73  -4.03  2.36  0.82  7.98  1.62  0.59   4   \n",
      "71  Os -1.067414     0 -1.17  1.14  -2.09  2.20  1.08  8.71  1.44  0.54   6   \n",
      "72  Ir -0.004404     0 -0.94  0.60  -1.82  2.20  1.56  8.97  1.41  0.53   7   \n",
      "73  Pt  1.471646     0 -1.52  0.50  -3.19  2.28  2.13  8.96  1.36  0.51   9   \n",
      "74  Au  1.570000     0 -3.33  0.50  -1.24  2.54  2.31  9.23  1.36  0.49  10   \n",
      "\n",
      "     N   dMN  \n",
      "0   25  2.22  \n",
      "1   26  2.32  \n",
      "2   27  2.03  \n",
      "3   28  1.95  \n",
      "4   29  2.11  \n",
      "..  ..   ...  \n",
      "70  74  2.40  \n",
      "71  76  2.46  \n",
      "72  77  2.47  \n",
      "73  78  2.12  \n",
      "74  79  2.51  \n",
      "\n",
      "[75 rows x 14 columns]\n",
      "['Nnum' 'ed' 'Qe' 'Ecohe' 'EN' 'EA' 'I' 'rcov' 'rZ' 'Ne' 'N' 'dMN']\n"
     ]
    }
   ],
   "source": [
    "raw_data = pd.read_excel('data_new/CERML_origin.xlsx')\n",
    "print(raw_data)\n",
    "feature_names = np.array(['Nnum', 'ed', 'Qe', 'Ecohe', 'EN', 'EA', 'I', 'rcov', 'rZ', 'Ne', 'N', 'dMN'])\n",
    "\n",
    "print(feature_names)"
   ]
  },
  {
   "cell_type": "markdown",
   "metadata": {
    "id": "8FfGKZdctzub",
    "jp-MarkdownHeadingCollapsed": true,
    "tags": []
   },
   "source": [
    "# Data preprocessing"
   ]
  },
  {
   "cell_type": "code",
   "execution_count": 4,
   "metadata": {
    "colab": {
     "base_uri": "https://localhost:8080/"
    },
    "id": "aFQJxMtM8uXu",
    "outputId": "bfe9f2f1-754a-42c7-963c-4a3011c9d8a9"
   },
   "outputs": [
    {
     "name": "stdout",
     "output_type": "stream",
     "text": [
      "     M      G_Cl  Nnum    ed    Qe  Ecohe    EN    EA     I  rcov    rZ  Ne  \\\n",
      "0   Mn  0.795966     4 -0.83  1.24  -0.36  1.55 -0.50  7.43  1.39  0.23   5   \n",
      "1   Fe  0.858026     4 -0.62  1.37  -3.15  1.83  0.15  7.90  1.32  0.22   6   \n",
      "2   Co  1.150586     4 -1.01  0.91  -2.81  1.88  0.66  7.88  1.26  0.21   7   \n",
      "3   Ni  1.829476     4 -1.17  0.77  -4.69  1.92  1.16  7.64  1.24  0.20   8   \n",
      "4   Cu  1.902396     4 -1.50  0.71  -2.48  1.90  1.24  7.73  1.32  0.19  10   \n",
      "..  ..       ...   ...   ...   ...    ...   ...   ...   ...   ...   ...  ..   \n",
      "70   W -2.478654     0 -0.90  1.73  -4.03  2.36  0.82  7.98  1.62  0.59   4   \n",
      "71  Os -1.067414     0 -1.17  1.14  -2.09  2.20  1.08  8.71  1.44  0.54   6   \n",
      "72  Ir -0.004404     0 -0.94  0.60  -1.82  2.20  1.56  8.97  1.41  0.53   7   \n",
      "73  Pt  1.471646     0 -1.52  0.50  -3.19  2.28  2.13  8.96  1.36  0.51   9   \n",
      "74  Au  1.570000     0 -3.33  0.50  -1.24  2.54  2.31  9.23  1.36  0.49  10   \n",
      "\n",
      "     N   dMN  \n",
      "0   25  2.22  \n",
      "1   26  2.32  \n",
      "2   27  2.03  \n",
      "3   28  1.95  \n",
      "4   29  2.11  \n",
      "..  ..   ...  \n",
      "70  74  2.40  \n",
      "71  76  2.46  \n",
      "72  77  2.47  \n",
      "73  78  2.12  \n",
      "74  79  2.51  \n",
      "\n",
      "[75 rows x 14 columns]\n",
      "    Nnum    ed    Qe  Ecohe    EN    EA     I  rcov    rZ  Ne   N   dMN\n",
      "0      4 -0.83  1.24  -0.36  1.55 -0.50  7.43  1.39  0.23   5  25  2.22\n",
      "1      4 -0.62  1.37  -3.15  1.83  0.15  7.90  1.32  0.22   6  26  2.32\n",
      "2      4 -1.01  0.91  -2.81  1.88  0.66  7.88  1.26  0.21   7  27  2.03\n",
      "3      4 -1.17  0.77  -4.69  1.92  1.16  7.64  1.24  0.20   8  28  1.95\n",
      "4      4 -1.50  0.71  -2.48  1.90  1.24  7.73  1.32  0.19  10  29  2.11\n",
      "..   ...   ...   ...    ...   ...   ...   ...   ...   ...  ..  ..   ...\n",
      "70     0 -0.90  1.73  -4.03  2.36  0.82  7.98  1.62  0.59   4  74  2.40\n",
      "71     0 -1.17  1.14  -2.09  2.20  1.08  8.71  1.44  0.54   6  76  2.46\n",
      "72     0 -0.94  0.60  -1.82  2.20  1.56  8.97  1.41  0.53   7  77  2.47\n",
      "73     0 -1.52  0.50  -3.19  2.28  2.13  8.96  1.36  0.51   9  78  2.12\n",
      "74     0 -3.33  0.50  -1.24  2.54  2.31  9.23  1.36  0.49  10  79  2.51\n",
      "\n",
      "[75 rows x 12 columns]\n"
     ]
    }
   ],
   "source": [
    "print(raw_data)\n",
    "data_cleaned = raw_data.iloc[:,2:] # input data들만 모은 array\n",
    "print(data_cleaned)"
   ]
  },
  {
   "cell_type": "markdown",
   "metadata": {
    "id": "Hyx5YYwYuB0w"
   },
   "source": [
    "여기서부터 Supervised Learning Part (SVM, Randomforest, NN)\n",
    "\n",
    "Training set 나누기!"
   ]
  },
  {
   "cell_type": "code",
   "execution_count": 5,
   "metadata": {
    "colab": {
     "base_uri": "https://localhost:8080/"
    },
    "id": "YyNCtLGD-nLc",
    "outputId": "6a7d721c-3c32-463c-c02e-c5c918a2acc9"
   },
   "outputs": [],
   "source": [
    "x = data_cleaned.astype(float)\n",
    "y = raw_data.iloc[:,1].astype(float)\n",
    "\n",
    "x_train, x_test, y_train, y_test = train_test_split(x, y, test_size=0.25, random_state=42)  # 적당한 비율로 training과 test set을 나누는 부분"
   ]
  },
  {
   "cell_type": "markdown",
   "metadata": {
    "id": "VohTjk-ts9PT",
    "tags": []
   },
   "source": [
    "# Feature Importance Search"
   ]
  },
  {
   "cell_type": "markdown",
   "metadata": {},
   "source": [
    "Data Scaling"
   ]
  },
  {
   "cell_type": "code",
   "execution_count": 6,
   "metadata": {},
   "outputs": [],
   "source": [
    "scaler = StandardScaler()\n",
    "x_train_scaled = scaler.fit_transform(x_train)\n",
    "x_test_scaled = scaler.fit_transform(x_test)\n",
    "x_scaled = scaler.fit_transform(x)\n",
    "x_train_scaled_df = pd.DataFrame(x_train_scaled, columns=x_train.columns)\n",
    "x_test_scaled_df = pd.DataFrame(x_test_scaled, columns=x_test.columns)"
   ]
  },
  {
   "cell_type": "markdown",
   "metadata": {},
   "source": [
    "Permutation functions 선언"
   ]
  },
  {
   "cell_type": "code",
   "execution_count": 7,
   "metadata": {},
   "outputs": [],
   "source": [
    "def get_score_after_permutation(model, X, y, curr_feat):\n",
    "    \"\"\" return the score of model when curr_feat is permuted \"\"\"\n",
    "\n",
    "    X_permuted = X.copy()\n",
    "    col_idx = list(X.columns).index(curr_feat)\n",
    "    # permute one column\n",
    "    X_permuted.iloc[:, col_idx] = np.random.permutation(\n",
    "        X_permuted[curr_feat].values)\n",
    "\n",
    "    permuted_score = model.score(X_permuted, y)\n",
    "    return permuted_score\n",
    "\n",
    "\n",
    "def get_feature_importance(model, X, y, curr_feat):\n",
    "    \"\"\" compare the score when curr_feat is permuted \"\"\"\n",
    "\n",
    "    baseline_score_train = model.score(X, y)\n",
    "    permuted_score_train = get_score_after_permutation(model, X, y, curr_feat)\n",
    "\n",
    "    # feature importance is the difference between the two scores\n",
    "    feature_importance = baseline_score_train - permuted_score_train\n",
    "    return feature_importance\n",
    "\n",
    "def permutation_importance(model, X, y, n_repeats=10):\n",
    "    \"\"\"Calculate importance score for each feature.\"\"\"\n",
    "\n",
    "    importances = []\n",
    "    for curr_feat in X.columns:\n",
    "        list_feature_importance = []\n",
    "        for n_round in range(n_repeats):\n",
    "            list_feature_importance.append(\n",
    "                get_feature_importance(model, X, y, curr_feat))\n",
    "\n",
    "        importances.append(list_feature_importance)\n",
    "\n",
    "    return {'importances_mean': np.mean(importances, axis=1),\n",
    "            'importances_std': np.std(importances, axis=1),\n",
    "            'importances': importances}\n",
    "\n",
    "def plot_feature_importances(perm_importance_result, feat_name):\n",
    "    \"\"\" bar plot the feature importance \"\"\"\n",
    "\n",
    "    fig, ax = plt.subplots()\n",
    "\n",
    "    indices = perm_importance_result['importances_mean'].argsort()\n",
    "    plt.barh(range(len(indices)),\n",
    "             perm_importance_result['importances_mean'][indices],\n",
    "             xerr=perm_importance_result['importances_std'][indices])\n",
    "\n",
    "    ax.set_yticks(range(len(indices)))\n",
    "    _ = ax.set_yticklabels(feat_name[indices])"
   ]
  },
  {
   "cell_type": "markdown",
   "metadata": {},
   "source": [
    "Data 분포 정의 for alpha values"
   ]
  },
  {
   "cell_type": "code",
   "execution_count": 8,
   "metadata": {},
   "outputs": [],
   "source": [
    "class CustomExpNormal(rv_continuous):\n",
    "    def __init__(self, mean, std):\n",
    "        super().__init__()\n",
    "        self.mean = mean\n",
    "        self.std = std\n",
    "\n",
    "    def _pdf(self, x):\n",
    "        norm_factor = 1.0 / (self.std * np.sqrt(2 * np.pi))\n",
    "        exponent = -0.5 * ((np.log(np.maximum(1e-10, x)) - self.mean) / self.std)**2\n",
    "\n",
    "        valid_indices = x > 0\n",
    "        pdf = np.zeros_like(x)\n",
    "        pdf[valid_indices] = norm_factor * np.exp(exponent[valid_indices])\n",
    "\n",
    "        return pdf"
   ]
  },
  {
   "cell_type": "markdown",
   "metadata": {
    "tags": []
   },
   "source": [
    "### 1. Ridge 기반 Feature importance"
   ]
  },
  {
   "cell_type": "code",
   "execution_count": 9,
   "metadata": {},
   "outputs": [],
   "source": [
    "params_ridge = {'alpha': CustomExpNormal(0,3)}"
   ]
  },
  {
   "cell_type": "code",
   "execution_count": 10,
   "metadata": {},
   "outputs": [
    {
     "name": "stdout",
     "output_type": "stream",
     "text": [
      "Fitting 5 folds for each of 100 candidates, totalling 500 fits\n"
     ]
    },
    {
     "data": {
      "text/html": [
       "<style>#sk-container-id-1 {color: black;background-color: white;}#sk-container-id-1 pre{padding: 0;}#sk-container-id-1 div.sk-toggleable {background-color: white;}#sk-container-id-1 label.sk-toggleable__label {cursor: pointer;display: block;width: 100%;margin-bottom: 0;padding: 0.3em;box-sizing: border-box;text-align: center;}#sk-container-id-1 label.sk-toggleable__label-arrow:before {content: \"▸\";float: left;margin-right: 0.25em;color: #696969;}#sk-container-id-1 label.sk-toggleable__label-arrow:hover:before {color: black;}#sk-container-id-1 div.sk-estimator:hover label.sk-toggleable__label-arrow:before {color: black;}#sk-container-id-1 div.sk-toggleable__content {max-height: 0;max-width: 0;overflow: hidden;text-align: left;background-color: #f0f8ff;}#sk-container-id-1 div.sk-toggleable__content pre {margin: 0.2em;color: black;border-radius: 0.25em;background-color: #f0f8ff;}#sk-container-id-1 input.sk-toggleable__control:checked~div.sk-toggleable__content {max-height: 200px;max-width: 100%;overflow: auto;}#sk-container-id-1 input.sk-toggleable__control:checked~label.sk-toggleable__label-arrow:before {content: \"▾\";}#sk-container-id-1 div.sk-estimator input.sk-toggleable__control:checked~label.sk-toggleable__label {background-color: #d4ebff;}#sk-container-id-1 div.sk-label input.sk-toggleable__control:checked~label.sk-toggleable__label {background-color: #d4ebff;}#sk-container-id-1 input.sk-hidden--visually {border: 0;clip: rect(1px 1px 1px 1px);clip: rect(1px, 1px, 1px, 1px);height: 1px;margin: -1px;overflow: hidden;padding: 0;position: absolute;width: 1px;}#sk-container-id-1 div.sk-estimator {font-family: monospace;background-color: #f0f8ff;border: 1px dotted black;border-radius: 0.25em;box-sizing: border-box;margin-bottom: 0.5em;}#sk-container-id-1 div.sk-estimator:hover {background-color: #d4ebff;}#sk-container-id-1 div.sk-parallel-item::after {content: \"\";width: 100%;border-bottom: 1px solid gray;flex-grow: 1;}#sk-container-id-1 div.sk-label:hover label.sk-toggleable__label {background-color: #d4ebff;}#sk-container-id-1 div.sk-serial::before {content: \"\";position: absolute;border-left: 1px solid gray;box-sizing: border-box;top: 0;bottom: 0;left: 50%;z-index: 0;}#sk-container-id-1 div.sk-serial {display: flex;flex-direction: column;align-items: center;background-color: white;padding-right: 0.2em;padding-left: 0.2em;position: relative;}#sk-container-id-1 div.sk-item {position: relative;z-index: 1;}#sk-container-id-1 div.sk-parallel {display: flex;align-items: stretch;justify-content: center;background-color: white;position: relative;}#sk-container-id-1 div.sk-item::before, #sk-container-id-1 div.sk-parallel-item::before {content: \"\";position: absolute;border-left: 1px solid gray;box-sizing: border-box;top: 0;bottom: 0;left: 50%;z-index: -1;}#sk-container-id-1 div.sk-parallel-item {display: flex;flex-direction: column;z-index: 1;position: relative;background-color: white;}#sk-container-id-1 div.sk-parallel-item:first-child::after {align-self: flex-end;width: 50%;}#sk-container-id-1 div.sk-parallel-item:last-child::after {align-self: flex-start;width: 50%;}#sk-container-id-1 div.sk-parallel-item:only-child::after {width: 0;}#sk-container-id-1 div.sk-dashed-wrapped {border: 1px dashed gray;margin: 0 0.4em 0.5em 0.4em;box-sizing: border-box;padding-bottom: 0.4em;background-color: white;}#sk-container-id-1 div.sk-label label {font-family: monospace;font-weight: bold;display: inline-block;line-height: 1.2em;}#sk-container-id-1 div.sk-label-container {text-align: center;}#sk-container-id-1 div.sk-container {/* jupyter's `normalize.less` sets `[hidden] { display: none; }` but bootstrap.min.css set `[hidden] { display: none !important; }` so we also need the `!important` here to be able to override the default hidden behavior on the sphinx rendered scikit-learn.org. See: https://github.com/scikit-learn/scikit-learn/issues/21755 */display: inline-block !important;position: relative;}#sk-container-id-1 div.sk-text-repr-fallback {display: none;}</style><div id=\"sk-container-id-1\" class=\"sk-top-container\"><div class=\"sk-text-repr-fallback\"><pre>RandomizedSearchCV(cv=5, estimator=Ridge(), n_iter=100, n_jobs=-1,\n",
       "                   param_distributions={&#x27;alpha&#x27;: &lt;__main__.CustomExpNormal object at 0x000002B6F34F70D0&gt;},\n",
       "                   random_state=42, scoring=&#x27;neg_mean_squared_error&#x27;,\n",
       "                   verbose=2)</pre><b>In a Jupyter environment, please rerun this cell to show the HTML representation or trust the notebook. <br />On GitHub, the HTML representation is unable to render, please try loading this page with nbviewer.org.</b></div><div class=\"sk-container\" hidden><div class=\"sk-item sk-dashed-wrapped\"><div class=\"sk-label-container\"><div class=\"sk-label sk-toggleable\"><input class=\"sk-toggleable__control sk-hidden--visually\" id=\"sk-estimator-id-1\" type=\"checkbox\" ><label for=\"sk-estimator-id-1\" class=\"sk-toggleable__label sk-toggleable__label-arrow\">RandomizedSearchCV</label><div class=\"sk-toggleable__content\"><pre>RandomizedSearchCV(cv=5, estimator=Ridge(), n_iter=100, n_jobs=-1,\n",
       "                   param_distributions={&#x27;alpha&#x27;: &lt;__main__.CustomExpNormal object at 0x000002B6F34F70D0&gt;},\n",
       "                   random_state=42, scoring=&#x27;neg_mean_squared_error&#x27;,\n",
       "                   verbose=2)</pre></div></div></div><div class=\"sk-parallel\"><div class=\"sk-parallel-item\"><div class=\"sk-item\"><div class=\"sk-label-container\"><div class=\"sk-label sk-toggleable\"><input class=\"sk-toggleable__control sk-hidden--visually\" id=\"sk-estimator-id-2\" type=\"checkbox\" ><label for=\"sk-estimator-id-2\" class=\"sk-toggleable__label sk-toggleable__label-arrow\">estimator: Ridge</label><div class=\"sk-toggleable__content\"><pre>Ridge()</pre></div></div></div><div class=\"sk-serial\"><div class=\"sk-item\"><div class=\"sk-estimator sk-toggleable\"><input class=\"sk-toggleable__control sk-hidden--visually\" id=\"sk-estimator-id-3\" type=\"checkbox\" ><label for=\"sk-estimator-id-3\" class=\"sk-toggleable__label sk-toggleable__label-arrow\">Ridge</label><div class=\"sk-toggleable__content\"><pre>Ridge()</pre></div></div></div></div></div></div></div></div></div></div>"
      ],
      "text/plain": [
       "RandomizedSearchCV(cv=5, estimator=Ridge(), n_iter=100, n_jobs=-1,\n",
       "                   param_distributions={'alpha': <__main__.CustomExpNormal object at 0x000002B6F34F70D0>},\n",
       "                   random_state=42, scoring='neg_mean_squared_error',\n",
       "                   verbose=2)"
      ]
     },
     "execution_count": 10,
     "metadata": {},
     "output_type": "execute_result"
    }
   ],
   "source": [
    "ridge = Ridge()\n",
    "ridge_random = RandomizedSearchCV(estimator = ridge, param_distributions=params_ridge, n_iter = 100, cv = 5, verbose=2, random_state=42, n_jobs = -1, scoring='neg_mean_squared_error')\n",
    "ridge_random.fit(x_train_scaled_df, y_train)"
   ]
  },
  {
   "cell_type": "code",
   "execution_count": 11,
   "metadata": {},
   "outputs": [
    {
     "name": "stdout",
     "output_type": "stream",
     "text": [
      "Best Estimator: {'alpha': 2.0437883808141275}\n",
      "Score on training set: 0.9219133807526501\n",
      "Score on test set: 0.8299772761143321\n"
     ]
    }
   ],
   "source": [
    "best_ridge = ridge_random.best_estimator_\n",
    "\n",
    "print(\"Best Estimator:\", ridge_random.best_params_)\n",
    "\n",
    "print('Score on training set:', best_ridge.score(x_train_scaled_df, y_train))\n",
    "print('Score on test set:', best_ridge.score(x_test_scaled_df, y_test))"
   ]
  },
  {
   "cell_type": "code",
   "execution_count": 12,
   "metadata": {},
   "outputs": [
    {
     "name": "stdout",
     "output_type": "stream",
     "text": [
      "0.1014006068659986\n",
      "0.17578309496067313\n"
     ]
    }
   ],
   "source": [
    "predict_ridge_train = best_ridge.predict(x_train_scaled_df) # 최고의 개수로 학습한 거에 x_train을 넣은 결과\n",
    "predict_ridge = best_ridge.predict(x_test_scaled_df) # 최고의 개수로 학습한 거에 x_test를 넣은 결과\n",
    "\n",
    "mse_ridge_train = mean_squared_error(y_train, predict_ridge_train) # rdf에서 train set 에러\n",
    "mse_ridge_test = mean_squared_error(y_test, predict_ridge) # rdf에서 test set 에러\n",
    "\n",
    "print(mse_ridge_train)\n",
    "print(mse_ridge_test)"
   ]
  },
  {
   "cell_type": "code",
   "execution_count": 13,
   "metadata": {
    "tags": []
   },
   "outputs": [
    {
     "data": {
      "image/png": "[encoded data removed]",
      "text/plain": [
       "<Figure size 900x700 with 1 Axes>"
      ]
     },
     "metadata": {},
     "output_type": "display_data"
    }
   ],
   "source": [
    "# Create a DataFrame of coefficients\n",
    "coefs = pd.DataFrame(\n",
    "   abs(best_ridge.coef_),  # Take absolute values of coefficients\n",
    "   columns=['Absolute Coefficients'], index=x_train.columns\n",
    ")\n",
    "\n",
    "# Sort by absolute coefficients\n",
    "sorted_coefs = coefs.sort_values(by='Absolute Coefficients', ascending=True)\n",
    "\n",
    "# Create bar plot\n",
    "sorted_coefs.plot(kind='barh', figsize=(9, 7))\n",
    "plt.title('Ridge model')\n",
    "plt.axvline(x=0, color='.5')\n",
    "plt.subplots_adjust(left=.3)\n",
    "plt.savefig('Figs_original/Ridge.png')\n",
    "plt.show()"
   ]
  },
  {
   "cell_type": "markdown",
   "metadata": {},
   "source": [
    "#### Permutation도 보기"
   ]
  },
  {
   "cell_type": "code",
   "execution_count": 14,
   "metadata": {},
   "outputs": [
    {
     "data": {
      "image/png": "[encoded data removed]",
      "text/plain": [
       "<Figure size 640x480 with 1 Axes>"
      ]
     },
     "metadata": {},
     "output_type": "display_data"
    }
   ],
   "source": [
    "perm_importance_result_test = permutation_importance(best_ridge, x_test_scaled_df, y_test, n_repeats=10)\n",
    "plot_feature_importances(perm_importance_result_test, x_test.columns)"
   ]
  },
  {
   "cell_type": "markdown",
   "metadata": {
    "tags": []
   },
   "source": [
    "### 2. Lasso 기반 Feautre importance"
   ]
  },
  {
   "cell_type": "code",
   "execution_count": 15,
   "metadata": {},
   "outputs": [],
   "source": [
    "params_lasso = {'alpha': CustomExpNormal(0,3)}"
   ]
  },
  {
   "cell_type": "code",
   "execution_count": 16,
   "metadata": {},
   "outputs": [
    {
     "name": "stdout",
     "output_type": "stream",
     "text": [
      "Fitting 5 folds for each of 100 candidates, totalling 500 fits\n"
     ]
    },
    {
     "data": {
      "text/html": [
       "<style>#sk-container-id-2 {color: black;background-color: white;}#sk-container-id-2 pre{padding: 0;}#sk-container-id-2 div.sk-toggleable {background-color: white;}#sk-container-id-2 label.sk-toggleable__label {cursor: pointer;display: block;width: 100%;margin-bottom: 0;padding: 0.3em;box-sizing: border-box;text-align: center;}#sk-container-id-2 label.sk-toggleable__label-arrow:before {content: \"▸\";float: left;margin-right: 0.25em;color: #696969;}#sk-container-id-2 label.sk-toggleable__label-arrow:hover:before {color: black;}#sk-container-id-2 div.sk-estimator:hover label.sk-toggleable__label-arrow:before {color: black;}#sk-container-id-2 div.sk-toggleable__content {max-height: 0;max-width: 0;overflow: hidden;text-align: left;background-color: #f0f8ff;}#sk-container-id-2 div.sk-toggleable__content pre {margin: 0.2em;color: black;border-radius: 0.25em;background-color: #f0f8ff;}#sk-container-id-2 input.sk-toggleable__control:checked~div.sk-toggleable__content {max-height: 200px;max-width: 100%;overflow: auto;}#sk-container-id-2 input.sk-toggleable__control:checked~label.sk-toggleable__label-arrow:before {content: \"▾\";}#sk-container-id-2 div.sk-estimator input.sk-toggleable__control:checked~label.sk-toggleable__label {background-color: #d4ebff;}#sk-container-id-2 div.sk-label input.sk-toggleable__control:checked~label.sk-toggleable__label {background-color: #d4ebff;}#sk-container-id-2 input.sk-hidden--visually {border: 0;clip: rect(1px 1px 1px 1px);clip: rect(1px, 1px, 1px, 1px);height: 1px;margin: -1px;overflow: hidden;padding: 0;position: absolute;width: 1px;}#sk-container-id-2 div.sk-estimator {font-family: monospace;background-color: #f0f8ff;border: 1px dotted black;border-radius: 0.25em;box-sizing: border-box;margin-bottom: 0.5em;}#sk-container-id-2 div.sk-estimator:hover {background-color: #d4ebff;}#sk-container-id-2 div.sk-parallel-item::after {content: \"\";width: 100%;border-bottom: 1px solid gray;flex-grow: 1;}#sk-container-id-2 div.sk-label:hover label.sk-toggleable__label {background-color: #d4ebff;}#sk-container-id-2 div.sk-serial::before {content: \"\";position: absolute;border-left: 1px solid gray;box-sizing: border-box;top: 0;bottom: 0;left: 50%;z-index: 0;}#sk-container-id-2 div.sk-serial {display: flex;flex-direction: column;align-items: center;background-color: white;padding-right: 0.2em;padding-left: 0.2em;position: relative;}#sk-container-id-2 div.sk-item {position: relative;z-index: 1;}#sk-container-id-2 div.sk-parallel {display: flex;align-items: stretch;justify-content: center;background-color: white;position: relative;}#sk-container-id-2 div.sk-item::before, #sk-container-id-2 div.sk-parallel-item::before {content: \"\";position: absolute;border-left: 1px solid gray;box-sizing: border-box;top: 0;bottom: 0;left: 50%;z-index: -1;}#sk-container-id-2 div.sk-parallel-item {display: flex;flex-direction: column;z-index: 1;position: relative;background-color: white;}#sk-container-id-2 div.sk-parallel-item:first-child::after {align-self: flex-end;width: 50%;}#sk-container-id-2 div.sk-parallel-item:last-child::after {align-self: flex-start;width: 50%;}#sk-container-id-2 div.sk-parallel-item:only-child::after {width: 0;}#sk-container-id-2 div.sk-dashed-wrapped {border: 1px dashed gray;margin: 0 0.4em 0.5em 0.4em;box-sizing: border-box;padding-bottom: 0.4em;background-color: white;}#sk-container-id-2 div.sk-label label {font-family: monospace;font-weight: bold;display: inline-block;line-height: 1.2em;}#sk-container-id-2 div.sk-label-container {text-align: center;}#sk-container-id-2 div.sk-container {/* jupyter's `normalize.less` sets `[hidden] { display: none; }` but bootstrap.min.css set `[hidden] { display: none !important; }` so we also need the `!important` here to be able to override the default hidden behavior on the sphinx rendered scikit-learn.org. See: https://github.com/scikit-learn/scikit-learn/issues/21755 */display: inline-block !important;position: relative;}#sk-container-id-2 div.sk-text-repr-fallback {display: none;}</style><div id=\"sk-container-id-2\" class=\"sk-top-container\"><div class=\"sk-text-repr-fallback\"><pre>RandomizedSearchCV(cv=5, estimator=Lasso(), n_iter=100, n_jobs=-1,\n",
       "                   param_distributions={&#x27;alpha&#x27;: &lt;__main__.CustomExpNormal object at 0x000002B6F3702C90&gt;},\n",
       "                   random_state=42, scoring=&#x27;neg_mean_squared_error&#x27;,\n",
       "                   verbose=2)</pre><b>In a Jupyter environment, please rerun this cell to show the HTML representation or trust the notebook. <br />On GitHub, the HTML representation is unable to render, please try loading this page with nbviewer.org.</b></div><div class=\"sk-container\" hidden><div class=\"sk-item sk-dashed-wrapped\"><div class=\"sk-label-container\"><div class=\"sk-label sk-toggleable\"><input class=\"sk-toggleable__control sk-hidden--visually\" id=\"sk-estimator-id-4\" type=\"checkbox\" ><label for=\"sk-estimator-id-4\" class=\"sk-toggleable__label sk-toggleable__label-arrow\">RandomizedSearchCV</label><div class=\"sk-toggleable__content\"><pre>RandomizedSearchCV(cv=5, estimator=Lasso(), n_iter=100, n_jobs=-1,\n",
       "                   param_distributions={&#x27;alpha&#x27;: &lt;__main__.CustomExpNormal object at 0x000002B6F3702C90&gt;},\n",
       "                   random_state=42, scoring=&#x27;neg_mean_squared_error&#x27;,\n",
       "                   verbose=2)</pre></div></div></div><div class=\"sk-parallel\"><div class=\"sk-parallel-item\"><div class=\"sk-item\"><div class=\"sk-label-container\"><div class=\"sk-label sk-toggleable\"><input class=\"sk-toggleable__control sk-hidden--visually\" id=\"sk-estimator-id-5\" type=\"checkbox\" ><label for=\"sk-estimator-id-5\" class=\"sk-toggleable__label sk-toggleable__label-arrow\">estimator: Lasso</label><div class=\"sk-toggleable__content\"><pre>Lasso()</pre></div></div></div><div class=\"sk-serial\"><div class=\"sk-item\"><div class=\"sk-estimator sk-toggleable\"><input class=\"sk-toggleable__control sk-hidden--visually\" id=\"sk-estimator-id-6\" type=\"checkbox\" ><label for=\"sk-estimator-id-6\" class=\"sk-toggleable__label sk-toggleable__label-arrow\">Lasso</label><div class=\"sk-toggleable__content\"><pre>Lasso()</pre></div></div></div></div></div></div></div></div></div></div>"
      ],
      "text/plain": [
       "RandomizedSearchCV(cv=5, estimator=Lasso(), n_iter=100, n_jobs=-1,\n",
       "                   param_distributions={'alpha': <__main__.CustomExpNormal object at 0x000002B6F3702C90>},\n",
       "                   random_state=42, scoring='neg_mean_squared_error',\n",
       "                   verbose=2)"
      ]
     },
     "execution_count": 16,
     "metadata": {},
     "output_type": "execute_result"
    }
   ],
   "source": [
    "lasso = Lasso()\n",
    "lasso_random = RandomizedSearchCV(estimator = lasso, param_distributions=params_lasso, n_iter = 100, cv = 5, verbose=2, random_state=42, n_jobs = -1, scoring='neg_mean_squared_error')\n",
    "lasso_random.fit(x_train_scaled_df, y_train)"
   ]
  },
  {
   "cell_type": "code",
   "execution_count": 17,
   "metadata": {},
   "outputs": [
    {
     "name": "stdout",
     "output_type": "stream",
     "text": [
      "Best Estimator: {'alpha': 0.08029389726155224}\n",
      "Score on training set: 0.8590036676204755\n",
      "Score on test set: 0.8128919683044883\n"
     ]
    }
   ],
   "source": [
    "best_lasso = lasso_random.best_estimator_\n",
    "\n",
    "print(\"Best Estimator:\", lasso_random.best_params_)\n",
    "\n",
    "print('Score on training set:', best_lasso.score(x_train_scaled_df, y_train))\n",
    "print('Score on test set:', best_lasso.score(x_test_scaled_df, y_test))"
   ]
  },
  {
   "cell_type": "code",
   "execution_count": 18,
   "metadata": {},
   "outputs": [
    {
     "name": "stdout",
     "output_type": "stream",
     "text": [
      "0.18309300373058535\n",
      "0.19344725311867142\n"
     ]
    }
   ],
   "source": [
    "predict_lasso_train = best_lasso.predict(x_train_scaled_df) # 최고의 개수로 학습한 거에 x_train을 넣은 결과\n",
    "predict_lasso = best_lasso.predict(x_test_scaled_df) # 최고의 개수로 학습한 거에 x_test를 넣은 결과\n",
    "\n",
    "mse_lasso_train = mean_squared_error(y_train, predict_lasso_train) # rdf에서 train set 에러\n",
    "mse_lasso_test = mean_squared_error(y_test, predict_lasso) # rdf에서 test set 에러\n",
    "\n",
    "print(mse_lasso_train)\n",
    "print(mse_lasso_test)"
   ]
  },
  {
   "cell_type": "code",
   "execution_count": 19,
   "metadata": {},
   "outputs": [
    {
     "data": {
      "image/png": "[encoded data removed]",
      "text/plain": [
       "<Figure size 900x700 with 1 Axes>"
      ]
     },
     "metadata": {},
     "output_type": "display_data"
    }
   ],
   "source": [
    "# Create a DataFrame of coefficients\n",
    "coefs = pd.DataFrame(\n",
    "   abs(best_lasso.coef_),  # Take absolute values of coefficients\n",
    "   columns=['Absolute Coefficients'], index=x_train.columns\n",
    ")\n",
    "\n",
    "# Sort by absolute coefficients\n",
    "sorted_coefs = coefs.sort_values(by='Absolute Coefficients', ascending=True)\n",
    "\n",
    "# Create bar plot\n",
    "sorted_coefs.plot(kind='barh', figsize=(9, 7))\n",
    "plt.title('Lasso model')\n",
    "plt.axvline(x=0, color='.5')\n",
    "plt.subplots_adjust(left=.3)\n",
    "plt.savefig('Figs_original/Lasso.png')\n",
    "plt.show()"
   ]
  },
  {
   "cell_type": "markdown",
   "metadata": {},
   "source": [
    "#### Permutation도 보기"
   ]
  },
  {
   "cell_type": "code",
   "execution_count": 20,
   "metadata": {},
   "outputs": [
    {
     "data": {
      "image/png": "[encoded data removed]",
      "text/plain": [
       "<Figure size 640x480 with 1 Axes>"
      ]
     },
     "metadata": {},
     "output_type": "display_data"
    }
   ],
   "source": [
    "perm_importance_result_test = permutation_importance(best_lasso, x_test_scaled_df, y_test, n_repeats=10)\n",
    "plot_feature_importances(perm_importance_result_test, x_test.columns)"
   ]
  },
  {
   "cell_type": "markdown",
   "metadata": {
    "tags": []
   },
   "source": [
    "### 3. RandomForest 기반 Feature importance"
   ]
  },
  {
   "cell_type": "code",
   "execution_count": 21,
   "metadata": {},
   "outputs": [
    {
     "name": "stdout",
     "output_type": "stream",
     "text": [
      "{'bootstrap': [True, False],\n",
      " 'max_depth': [10, 20, 30, 40, 50, 60, 70, 80, 90, 100, 110, None],\n",
      " 'min_samples_leaf': [1, 2, 3, 4],\n",
      " 'min_samples_split': [2, 5, 7, 10],\n",
      " 'n_estimators': <scipy.stats._distn_infrastructure.rv_discrete_frozen object at 0x000002B6F3839110>}\n"
     ]
    }
   ],
   "source": [
    "n_estimators = randint(100, 1000)\n",
    "\n",
    "max_depth = [int(x) for x in np.linspace(10, 110, num = 11)]\n",
    "max_depth.append(None)\n",
    "\n",
    "min_samples_split = [2, 5, 7, 10]\n",
    "\n",
    "min_samples_leaf = [1, 2, 3, 4]\n",
    "\n",
    "bootstrap = [True, False]\n",
    "\n",
    "params_rf = {'n_estimators': n_estimators,\n",
    "             'max_depth': max_depth,\n",
    "             'min_samples_split': min_samples_split,\n",
    "             'min_samples_leaf': min_samples_leaf,\n",
    "             'bootstrap': bootstrap}\n",
    "pprint(params_rf)"
   ]
  },
  {
   "cell_type": "code",
   "execution_count": 22,
   "metadata": {},
   "outputs": [
    {
     "name": "stdout",
     "output_type": "stream",
     "text": [
      "Fitting 5 folds for each of 250 candidates, totalling 1250 fits\n"
     ]
    },
    {
     "data": {
      "text/html": [
       "<style>#sk-container-id-3 {color: black;background-color: white;}#sk-container-id-3 pre{padding: 0;}#sk-container-id-3 div.sk-toggleable {background-color: white;}#sk-container-id-3 label.sk-toggleable__label {cursor: pointer;display: block;width: 100%;margin-bottom: 0;padding: 0.3em;box-sizing: border-box;text-align: center;}#sk-container-id-3 label.sk-toggleable__label-arrow:before {content: \"▸\";float: left;margin-right: 0.25em;color: #696969;}#sk-container-id-3 label.sk-toggleable__label-arrow:hover:before {color: black;}#sk-container-id-3 div.sk-estimator:hover label.sk-toggleable__label-arrow:before {color: black;}#sk-container-id-3 div.sk-toggleable__content {max-height: 0;max-width: 0;overflow: hidden;text-align: left;background-color: #f0f8ff;}#sk-container-id-3 div.sk-toggleable__content pre {margin: 0.2em;color: black;border-radius: 0.25em;background-color: #f0f8ff;}#sk-container-id-3 input.sk-toggleable__control:checked~div.sk-toggleable__content {max-height: 200px;max-width: 100%;overflow: auto;}#sk-container-id-3 input.sk-toggleable__control:checked~label.sk-toggleable__label-arrow:before {content: \"▾\";}#sk-container-id-3 div.sk-estimator input.sk-toggleable__control:checked~label.sk-toggleable__label {background-color: #d4ebff;}#sk-container-id-3 div.sk-label input.sk-toggleable__control:checked~label.sk-toggleable__label {background-color: #d4ebff;}#sk-container-id-3 input.sk-hidden--visually {border: 0;clip: rect(1px 1px 1px 1px);clip: rect(1px, 1px, 1px, 1px);height: 1px;margin: -1px;overflow: hidden;padding: 0;position: absolute;width: 1px;}#sk-container-id-3 div.sk-estimator {font-family: monospace;background-color: #f0f8ff;border: 1px dotted black;border-radius: 0.25em;box-sizing: border-box;margin-bottom: 0.5em;}#sk-container-id-3 div.sk-estimator:hover {background-color: #d4ebff;}#sk-container-id-3 div.sk-parallel-item::after {content: \"\";width: 100%;border-bottom: 1px solid gray;flex-grow: 1;}#sk-container-id-3 div.sk-label:hover label.sk-toggleable__label {background-color: #d4ebff;}#sk-container-id-3 div.sk-serial::before {content: \"\";position: absolute;border-left: 1px solid gray;box-sizing: border-box;top: 0;bottom: 0;left: 50%;z-index: 0;}#sk-container-id-3 div.sk-serial {display: flex;flex-direction: column;align-items: center;background-color: white;padding-right: 0.2em;padding-left: 0.2em;position: relative;}#sk-container-id-3 div.sk-item {position: relative;z-index: 1;}#sk-container-id-3 div.sk-parallel {display: flex;align-items: stretch;justify-content: center;background-color: white;position: relative;}#sk-container-id-3 div.sk-item::before, #sk-container-id-3 div.sk-parallel-item::before {content: \"\";position: absolute;border-left: 1px solid gray;box-sizing: border-box;top: 0;bottom: 0;left: 50%;z-index: -1;}#sk-container-id-3 div.sk-parallel-item {display: flex;flex-direction: column;z-index: 1;position: relative;background-color: white;}#sk-container-id-3 div.sk-parallel-item:first-child::after {align-self: flex-end;width: 50%;}#sk-container-id-3 div.sk-parallel-item:last-child::after {align-self: flex-start;width: 50%;}#sk-container-id-3 div.sk-parallel-item:only-child::after {width: 0;}#sk-container-id-3 div.sk-dashed-wrapped {border: 1px dashed gray;margin: 0 0.4em 0.5em 0.4em;box-sizing: border-box;padding-bottom: 0.4em;background-color: white;}#sk-container-id-3 div.sk-label label {font-family: monospace;font-weight: bold;display: inline-block;line-height: 1.2em;}#sk-container-id-3 div.sk-label-container {text-align: center;}#sk-container-id-3 div.sk-container {/* jupyter's `normalize.less` sets `[hidden] { display: none; }` but bootstrap.min.css set `[hidden] { display: none !important; }` so we also need the `!important` here to be able to override the default hidden behavior on the sphinx rendered scikit-learn.org. See: https://github.com/scikit-learn/scikit-learn/issues/21755 */display: inline-block !important;position: relative;}#sk-container-id-3 div.sk-text-repr-fallback {display: none;}</style><div id=\"sk-container-id-3\" class=\"sk-top-container\"><div class=\"sk-text-repr-fallback\"><pre>RandomizedSearchCV(cv=5, estimator=RandomForestRegressor(), n_iter=250,\n",
       "                   n_jobs=-1,\n",
       "                   param_distributions={&#x27;bootstrap&#x27;: [True, False],\n",
       "                                        &#x27;max_depth&#x27;: [10, 20, 30, 40, 50, 60,\n",
       "                                                      70, 80, 90, 100, 110,\n",
       "                                                      None],\n",
       "                                        &#x27;min_samples_leaf&#x27;: [1, 2, 3, 4],\n",
       "                                        &#x27;min_samples_split&#x27;: [2, 5, 7, 10],\n",
       "                                        &#x27;n_estimators&#x27;: &lt;scipy.stats._distn_infrastructure.rv_discrete_frozen object at 0x000002B6F3839110&gt;},\n",
       "                   random_state=42, scoring=&#x27;neg_mean_squared_error&#x27;,\n",
       "                   verbose=2)</pre><b>In a Jupyter environment, please rerun this cell to show the HTML representation or trust the notebook. <br />On GitHub, the HTML representation is unable to render, please try loading this page with nbviewer.org.</b></div><div class=\"sk-container\" hidden><div class=\"sk-item sk-dashed-wrapped\"><div class=\"sk-label-container\"><div class=\"sk-label sk-toggleable\"><input class=\"sk-toggleable__control sk-hidden--visually\" id=\"sk-estimator-id-7\" type=\"checkbox\" ><label for=\"sk-estimator-id-7\" class=\"sk-toggleable__label sk-toggleable__label-arrow\">RandomizedSearchCV</label><div class=\"sk-toggleable__content\"><pre>RandomizedSearchCV(cv=5, estimator=RandomForestRegressor(), n_iter=250,\n",
       "                   n_jobs=-1,\n",
       "                   param_distributions={&#x27;bootstrap&#x27;: [True, False],\n",
       "                                        &#x27;max_depth&#x27;: [10, 20, 30, 40, 50, 60,\n",
       "                                                      70, 80, 90, 100, 110,\n",
       "                                                      None],\n",
       "                                        &#x27;min_samples_leaf&#x27;: [1, 2, 3, 4],\n",
       "                                        &#x27;min_samples_split&#x27;: [2, 5, 7, 10],\n",
       "                                        &#x27;n_estimators&#x27;: &lt;scipy.stats._distn_infrastructure.rv_discrete_frozen object at 0x000002B6F3839110&gt;},\n",
       "                   random_state=42, scoring=&#x27;neg_mean_squared_error&#x27;,\n",
       "                   verbose=2)</pre></div></div></div><div class=\"sk-parallel\"><div class=\"sk-parallel-item\"><div class=\"sk-item\"><div class=\"sk-label-container\"><div class=\"sk-label sk-toggleable\"><input class=\"sk-toggleable__control sk-hidden--visually\" id=\"sk-estimator-id-8\" type=\"checkbox\" ><label for=\"sk-estimator-id-8\" class=\"sk-toggleable__label sk-toggleable__label-arrow\">estimator: RandomForestRegressor</label><div class=\"sk-toggleable__content\"><pre>RandomForestRegressor()</pre></div></div></div><div class=\"sk-serial\"><div class=\"sk-item\"><div class=\"sk-estimator sk-toggleable\"><input class=\"sk-toggleable__control sk-hidden--visually\" id=\"sk-estimator-id-9\" type=\"checkbox\" ><label for=\"sk-estimator-id-9\" class=\"sk-toggleable__label sk-toggleable__label-arrow\">RandomForestRegressor</label><div class=\"sk-toggleable__content\"><pre>RandomForestRegressor()</pre></div></div></div></div></div></div></div></div></div></div>"
      ],
      "text/plain": [
       "RandomizedSearchCV(cv=5, estimator=RandomForestRegressor(), n_iter=250,\n",
       "                   n_jobs=-1,\n",
       "                   param_distributions={'bootstrap': [True, False],\n",
       "                                        'max_depth': [10, 20, 30, 40, 50, 60,\n",
       "                                                      70, 80, 90, 100, 110,\n",
       "                                                      None],\n",
       "                                        'min_samples_leaf': [1, 2, 3, 4],\n",
       "                                        'min_samples_split': [2, 5, 7, 10],\n",
       "                                        'n_estimators': <scipy.stats._distn_infrastructure.rv_discrete_frozen object at 0x000002B6F3839110>},\n",
       "                   random_state=42, scoring='neg_mean_squared_error',\n",
       "                   verbose=2)"
      ]
     },
     "execution_count": 22,
     "metadata": {},
     "output_type": "execute_result"
    }
   ],
   "source": [
    "rf = RandomForestRegressor()\n",
    "\n",
    "rf_random = RandomizedSearchCV(estimator = rf, param_distributions = params_rf, n_iter = 250, cv = 5, verbose=2, random_state=42, n_jobs = -1, scoring='neg_mean_squared_error')\n",
    "\n",
    "rf_random.fit(x_train, y_train)"
   ]
  },
  {
   "cell_type": "code",
   "execution_count": 23,
   "metadata": {},
   "outputs": [
    {
     "name": "stdout",
     "output_type": "stream",
     "text": [
      "Best Estimator: {'bootstrap': True, 'max_depth': 10, 'min_samples_leaf': 1, 'min_samples_split': 2, 'n_estimators': 382}\n",
      "Score on training set: 0.9931721878637146\n",
      "Score on test set: 0.9285418690535092\n"
     ]
    }
   ],
   "source": [
    "# 최적의 모델 및 파라미터 출력\n",
    "\n",
    "best_rf = rf_random.best_estimator_\n",
    "\n",
    "print(\"Best Estimator:\", rf_random.best_params_)\n",
    "\n",
    "print('Score on training set:', best_rf.score(x_train, y_train))\n",
    "print('Score on test set:', best_rf.score(x_test, y_test))"
   ]
  },
  {
   "cell_type": "code",
   "execution_count": 24,
   "metadata": {},
   "outputs": [
    {
     "name": "stdout",
     "output_type": "stream",
     "text": [
      "0.008866362775846046\n",
      "0.07387913292299658\n"
     ]
    }
   ],
   "source": [
    "predict_rf_train = best_rf.predict(x_train) # 최고의 개수로 학습한 거에 x_train을 넣은 결과\n",
    "predict_rf = best_rf.predict(x_test) # 최고의 개수로 학습한 거에 x_test를 넣은 결과\n",
    "\n",
    "mse_rf_train = mean_squared_error(y_train, predict_rf_train) # rdf에서 train set 에러\n",
    "mse_rf_test = mean_squared_error(y_test, predict_rf) # rdf에서 test set 에러\n",
    "\n",
    "print(mse_rf_train)\n",
    "print(mse_rf_test)"
   ]
  },
  {
   "cell_type": "code",
   "execution_count": 25,
   "metadata": {
    "colab": {
     "base_uri": "https://localhost:8080/",
     "height": 306
    },
    "id": "GXIlL_ufmnGJ",
    "outputId": "be7414fb-ed0e-4f74-d6d8-98055e9285b6"
   },
   "outputs": [
    {
     "data": {
      "image/png": "[encoded data removed]",
      "text/plain": [
       "<Figure size 640x480 with 1 Axes>"
      ]
     },
     "metadata": {},
     "output_type": "display_data"
    }
   ],
   "source": [
    "sort = best_rf.feature_importances_.argsort()\n",
    "plt.barh(feature_names[sort], best_rf.feature_importances_[sort])\n",
    "plt.title('Random Forest', fontsize='20')\n",
    "plt.xlabel(\"Feature Importance\", fontsize='10')\n",
    "plt.savefig('Figs_original/RF.png')"
   ]
  },
  {
   "cell_type": "markdown",
   "metadata": {},
   "source": [
    "#### Permutation도 보기"
   ]
  },
  {
   "cell_type": "code",
   "execution_count": 26,
   "metadata": {},
   "outputs": [
    {
     "data": {
      "image/png": "[encoded data removed]",
      "text/plain": [
       "<Figure size 640x480 with 1 Axes>"
      ]
     },
     "metadata": {},
     "output_type": "display_data"
    }
   ],
   "source": [
    "perm_importance_result_test = permutation_importance(best_rf, x_test, y_test, n_repeats=10)\n",
    "\n",
    "plot_feature_importances(perm_importance_result_test, x_test.columns)"
   ]
  },
  {
   "cell_type": "markdown",
   "metadata": {},
   "source": [
    "#### Shap 분석"
   ]
  },
  {
   "cell_type": "code",
   "execution_count": 27,
   "metadata": {},
   "outputs": [
    {
     "data": {
      "image/png": "[encoded data removed]",
      "text/plain": [
       "<Figure size 800x630 with 1 Axes>"
      ]
     },
     "metadata": {},
     "output_type": "display_data"
    }
   ],
   "source": [
    "explainer = shap.TreeExplainer(best_rf)\n",
    "shap_values = explainer.shap_values(x_test)\n",
    "\n",
    "shap.summary_plot(shap_values, x_test, plot_type=\"bar\")"
   ]
  },
  {
   "cell_type": "markdown",
   "metadata": {
    "tags": []
   },
   "source": [
    "### 4. XGBoost 기반 Feature importance"
   ]
  },
  {
   "cell_type": "code",
   "execution_count": 28,
   "metadata": {},
   "outputs": [],
   "source": [
    "params_xgb = {\n",
    "    'n_estimators': randint(100, 1000),\n",
    "    'learning_rate': [0.01, 0.05, 0.1, 0.2, 0.3],\n",
    "    'max_depth': [3, 4, 5, 6, 7],\n",
    "    'min_child_weight': [1, 2, 3, 4, 5],\n",
    "    'gamma': [0, 0.1, 0.2, 0.3, 0.4, 0.5],\n",
    "    'subsample': [0.6, 0.7, 0.8, 0.9, 1],\n",
    "    'colsample_bytree': [0.6, 0.7, 0.8, 0.9, 1],\n",
    "}"
   ]
  },
  {
   "cell_type": "code",
   "execution_count": null,
   "metadata": {},
   "outputs": [
    {
     "name": "stdout",
     "output_type": "stream",
     "text": [
      "Fitting 5 folds for each of 250 candidates, totalling 1250 fits\n"
     ]
    }
   ],
   "source": [
    "xgb = XGBRegressor()\n",
    "xgb_random = RandomizedSearchCV(estimator = xgb, param_distributions = params_xgb, n_iter = 250, cv = 5, verbose=2, random_state=42, n_jobs = -1, scoring='neg_mean_squared_error')\n",
    "xgb_random.fit(x_train, y_train)"
   ]
  },
  {
   "cell_type": "code",
   "execution_count": null,
   "metadata": {},
   "outputs": [],
   "source": [
    "# 최적의 모델 및 파라미터 출력\n",
    "print(\"Best Estimator:\", xgb_random.best_params_)\n",
    "\n",
    "print('Score on training set:', xgb_random.best_estimator_.score(x_train, y_train))\n",
    "print('Score on test set:', xgb_random.best_estimator_.score(x_test, y_test))\n",
    "\n",
    "best_xgb = xgb_random.best_estimator_"
   ]
  },
  {
   "cell_type": "code",
   "execution_count": null,
   "metadata": {},
   "outputs": [],
   "source": [
    "predict_xgb_train = best_xgb.predict(x_train) # 최고의 개수로 학습한 거에 x_train을 넣은 결과\n",
    "predict_xgb = best_xgb.predict(x_test) # 최고의 개수로 학습한 거에 x_test를 넣은 결과\n",
    "\n",
    "mse_xgb_train = mean_squared_error(y_train, predict_xgb_train) # rdf에서 train set 에러\n",
    "mse_xgb_test = mean_squared_error(y_test, predict_xgb) # rdf에서 test set 에러\n",
    "\n",
    "print(mse_xgb_train)\n",
    "print(mse_xgb_test)"
   ]
  },
  {
   "cell_type": "code",
   "execution_count": null,
   "metadata": {},
   "outputs": [],
   "source": [
    "sorted_idx = best_xgb.feature_importances_.argsort()\n",
    "plt.barh(feature_names[sorted_idx], best_xgb.feature_importances_[sorted_idx])\n",
    "plt.title('XGBoost', fontsize='20')\n",
    "plt.xlabel(\"Feature Importance\", fontsize='10')\n",
    "plt.savefig('Figs_original/XGBoost.png')"
   ]
  },
  {
   "cell_type": "markdown",
   "metadata": {},
   "source": [
    "#### Permutation도 보기"
   ]
  },
  {
   "cell_type": "code",
   "execution_count": null,
   "metadata": {},
   "outputs": [],
   "source": [
    "perm_importance_result_train = permutation_importance(best_xgb, x_test, y_test, n_repeats=10)\n",
    "\n",
    "plot_feature_importances(perm_importance_result_train, x_train.columns)"
   ]
  },
  {
   "cell_type": "markdown",
   "metadata": {},
   "source": [
    "#### SHAP 분석"
   ]
  },
  {
   "cell_type": "code",
   "execution_count": null,
   "metadata": {},
   "outputs": [],
   "source": [
    "explainer = shap.TreeExplainer(best_xgb)\n",
    "shap_values = explainer.shap_values(x_test)\n",
    "\n",
    "shap.summary_plot(shap_values, x_test, plot_type=\"bar\")"
   ]
  },
  {
   "cell_type": "markdown",
   "metadata": {
    "tags": []
   },
   "source": [
    "### 5. LightGBM 기반 Feature importance"
   ]
  },
  {
   "cell_type": "code",
   "execution_count": null,
   "metadata": {},
   "outputs": [],
   "source": [
    "params_lightgbm = {\n",
    "    'learning_rate': [0.01, 0.1, 0.3, 0.5, 1],\n",
    "    'num_leaves': randint(6, 50),\n",
    "    'boosting_type' : ['gbdt'],\n",
    "    'objective' : ['binary'],\n",
    "    'max_depth' : [5,6,7,8],\n",
    "    'random_state' : [501], \n",
    "    'colsample_bytree' : uniform(loc=0.4, scale=0.6),\n",
    "    'subsample' : uniform(loc=0.2, scale=0.8),\n",
    "    'min_split_gain' : [0.01, 0.03, 0.05],\n",
    "    'n_estimators' : [100, 500, 1000, 2000]\n",
    "    }"
   ]
  },
  {
   "cell_type": "code",
   "execution_count": null,
   "metadata": {},
   "outputs": [],
   "source": [
    "lgb = LGBMRegressor()\n",
    "lgb_random = RandomizedSearchCV(lgb,params_lightgbm,verbose=1,cv=5,n_jobs = -1,n_iter=100)\n",
    "lgb_random.fit(x_train,y_train)"
   ]
  },
  {
   "cell_type": "code",
   "execution_count": null,
   "metadata": {},
   "outputs": [],
   "source": [
    "# 최적의 모델 및 파라미터 출력\n",
    "print(\"Best Estimator:\", lgb_random.best_params_)\n",
    "\n",
    "print('Score on training set:', lgb_random.best_estimator_.score(x_train, y_train))\n",
    "print('Score on test set:', lgb_random.best_estimator_.score(x_test, y_test))\n",
    "\n",
    "best_lgb = lgb_random.best_estimator_"
   ]
  },
  {
   "cell_type": "code",
   "execution_count": null,
   "metadata": {},
   "outputs": [],
   "source": [
    "predict_lgb_train = best_lgb.predict(x_train) # 최고의 개수로 학습한 거에 x_train을 넣은 결과\n",
    "predict_lgb = best_lgb.predict(x_test) # 최고의 개수로 학습한 거에 x_test를 넣은 결과\n",
    "\n",
    "mse_lgb_train = mean_squared_error(y_train, predict_lgb_train) # rdf에서 train set 에러\n",
    "mse_lgb_test = mean_squared_error(y_test, predict_lgb) # rdf에서 test set 에러\n",
    "\n",
    "print(mse_lgb_train)\n",
    "print(mse_lgb_test)"
   ]
  },
  {
   "cell_type": "code",
   "execution_count": null,
   "metadata": {},
   "outputs": [],
   "source": [
    "sorted_idx = best_lgb.feature_importances_.argsort()\n",
    "plt.barh(feature_names[sorted_idx], best_lgb.feature_importances_[sorted_idx])\n",
    "plt.title('LightGBM', fontsize='20')\n",
    "plt.xlabel(\"Feature Importance\", fontsize='10')\n",
    "plt.savefig('Figs_original/LightGBM.png')"
   ]
  },
  {
   "cell_type": "markdown",
   "metadata": {},
   "source": [
    "#### Permutation도 보기"
   ]
  },
  {
   "cell_type": "code",
   "execution_count": null,
   "metadata": {},
   "outputs": [],
   "source": [
    "perm_importance_result_train = permutation_importance(best_lgb, x_test, y_test, n_repeats=10)\n",
    "\n",
    "plot_feature_importances(perm_importance_result_train, x_train.columns)"
   ]
  },
  {
   "cell_type": "markdown",
   "metadata": {
    "tags": []
   },
   "source": [
    "# 상관계수 분석"
   ]
  },
  {
   "cell_type": "code",
   "execution_count": null,
   "metadata": {
    "colab": {
     "base_uri": "https://localhost:8080/",
     "height": 494
    },
    "id": "e3cg3BSFwpg7",
    "outputId": "cac1bad8-fdce-4496-97ef-3e625d8f8b34"
   },
   "outputs": [],
   "source": [
    "def correlation_heatmap(train):\n",
    "    correlations = train.corr()\n",
    "\n",
    "    fig, ax = plt.subplots(figsize=(10,10))\n",
    "    sns.heatmap(correlations, vmax=1.0, center=0, fmt='.2f', cmap=\"YlGnBu\",\n",
    "                square=True, linewidths=.5, annot=True, cbar_kws={\"shrink\": .70}\n",
    "                )\n",
    "    plt.show()"
   ]
  },
  {
   "cell_type": "code",
   "execution_count": null,
   "metadata": {},
   "outputs": [],
   "source": [
    "corr = raw_data.iloc[:,1:]\n",
    "feature_names_corr = np.array(['G_Cl','Nnum', 'ed', 'Qe', 'Ecohe', 'EN', 'EA', 'I', 'rcov', 'rZ', 'Ne', 'N', 'dMN'])\n",
    "\n",
    "correlation_heatmap(corr[feature_names_corr])"
   ]
  },
  {
   "cell_type": "markdown",
   "metadata": {
    "tags": []
   },
   "source": [
    "# PCA 분석"
   ]
  },
  {
   "cell_type": "markdown",
   "metadata": {},
   "source": [
    "#### G_Cl 미포함"
   ]
  },
  {
   "cell_type": "code",
   "execution_count": null,
   "metadata": {},
   "outputs": [],
   "source": [
    "from sklearn.decomposition import PCA\n",
    "\n",
    "pca = PCA(n_components = 2)\n",
    "X2D = pca.fit_transform(x_scaled)"
   ]
  },
  {
   "cell_type": "code",
   "execution_count": null,
   "metadata": {},
   "outputs": [],
   "source": [
    "pca.explained_variance_ratio_"
   ]
  },
  {
   "cell_type": "code",
   "execution_count": null,
   "metadata": {},
   "outputs": [],
   "source": [
    "# scatter plot\n",
    "plt.figure(figsize=(10, 8))\n",
    "print(X2D[:, 1].shape)\n",
    "scatter = plt.scatter(X2D[:, 0], X2D[:, 1], c=y, alpha=0.8)\n",
    "plt.xlabel('Principal Component 1')\n",
    "plt.ylabel('Principal Component 2')\n",
    "plt.title('2D PCA of dataset')\n",
    "\n",
    "#plt.xlim(-10, 10)   # x축 범위 설정\n",
    "#plt.ylim(-10, 10)   # y축 범위 설정\n",
    "\n",
    "# Add a color bar\n",
    "colorbar = plt.colorbar(scatter)\n",
    "colorbar.set_label('Target Value')\n",
    "\n",
    "plt.show()"
   ]
  },
  {
   "cell_type": "markdown",
   "metadata": {
    "tags": []
   },
   "source": [
    "#### G_Cl 포함"
   ]
  },
  {
   "cell_type": "code",
   "execution_count": null,
   "metadata": {},
   "outputs": [],
   "source": [
    "pca = PCA(n_components = 2)\n",
    "X2D = pca.fit_transform(corr)"
   ]
  },
  {
   "cell_type": "code",
   "execution_count": null,
   "metadata": {},
   "outputs": [],
   "source": [
    "pca.explained_variance_ratio_"
   ]
  },
  {
   "cell_type": "code",
   "execution_count": null,
   "metadata": {},
   "outputs": [],
   "source": [
    "# scatter plot\n",
    "plt.figure(figsize=(10, 8))\n",
    "print(X2D[:, 1].shape)\n",
    "scatter = plt.scatter(X2D[:, 0], X2D[:, 1], c=y, alpha=0.8)\n",
    "plt.xlabel('Principal Component 1')\n",
    "plt.ylabel('Principal Component 2')\n",
    "plt.title('2D PCA of dataset')\n",
    "\n",
    "#plt.xlim(-10, 10)   # x축 범위 설정\n",
    "#plt.ylim(-10, 10)   # y축 범위 설정\n",
    "\n",
    "# Add a color bar\n",
    "colorbar = plt.colorbar(scatter)\n",
    "colorbar.set_label('Target Value')\n",
    "\n",
    "plt.show()"
   ]
  }
 ],
 "metadata": {
  "colab": {
   "provenance": []
  },
  "kernelspec": {
   "display_name": "CERML",
   "language": "python",
   "name": "cerml"
  },
  "language_info": {
   "codemirror_mode": {
    "name": "ipython",
    "version": 3
   },
   "file_extension": ".py",
   "mimetype": "text/x-python",
   "name": "python",
   "nbconvert_exporter": "python",
   "pygments_lexer": "ipython3",
   "version": "3.11.3"
  }
 },
 "nbformat": 4,
 "nbformat_minor": 4
}
